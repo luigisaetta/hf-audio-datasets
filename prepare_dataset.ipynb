{
 "cells": [
  {
   "cell_type": "markdown",
   "id": "99072ea1-a5de-44b5-96b9-c204424ab763",
   "metadata": {},
   "source": [
    "### Prepare ATCO2 datasets\n",
    "\n",
    "* checks have been moved to check_files"
   ]
  },
  {
   "cell_type": "code",
   "execution_count": 1,
   "id": "c701b141-6744-4594-8d29-088a332ad8f3",
   "metadata": {
    "tags": []
   },
   "outputs": [],
   "source": [
    "import os\n",
    "import glob\n",
    "from os import path\n",
    "import pandas as pd\n",
    "from datasets import Dataset, load_dataset, Audio"
   ]
  },
  {
   "cell_type": "code",
   "execution_count": 2,
   "id": "5a98435f-5cf3-4e79-bf8e-d6a52483bb3f",
   "metadata": {
    "tags": []
   },
   "outputs": [],
   "source": [
    "DATA_DIR = \"atco2_orig2\"\n",
    "ATCO2_CSV = \"atco2.csv\"\n",
    "\n",
    "TEST_FRAC = 0.1\n",
    "\n",
    "# the name of the HF dataset (also the dir where it is saved\n",
    "HF_DIR = \"atco2_hf\"\n",
    "\n",
    "# the expected sampling rate\n",
    "SAMPLING_RATE = 16000"
   ]
  },
  {
   "cell_type": "code",
   "execution_count": 3,
   "id": "f3c4e322-f077-45c2-8782-f50d296403c3",
   "metadata": {
    "tags": []
   },
   "outputs": [],
   "source": [
    "def remove_path(f_name):\n",
    "    new_name = f_name.split(\"/\")[-1]\n",
    "\n",
    "    return new_name"
   ]
  },
  {
   "cell_type": "markdown",
   "id": "55a22f06-1349-47b8-afac-f7298d3354b4",
   "metadata": {},
   "source": [
    "#### Make some minimal checks"
   ]
  },
  {
   "cell_type": "code",
   "execution_count": 4,
   "id": "f91f53e6-b18d-495d-a46c-eff613742238",
   "metadata": {
    "tags": []
   },
   "outputs": [
    {
     "data": {
      "text/html": [
       "<div>\n",
       "<style scoped>\n",
       "    .dataframe tbody tr th:only-of-type {\n",
       "        vertical-align: middle;\n",
       "    }\n",
       "\n",
       "    .dataframe tbody tr th {\n",
       "        vertical-align: top;\n",
       "    }\n",
       "\n",
       "    .dataframe thead th {\n",
       "        text-align: right;\n",
       "    }\n",
       "</style>\n",
       "<table border=\"1\" class=\"dataframe\">\n",
       "  <thead>\n",
       "    <tr style=\"text-align: right;\">\n",
       "      <th></th>\n",
       "      <th>path</th>\n",
       "      <th>sentence</th>\n",
       "    </tr>\n",
       "  </thead>\n",
       "  <tbody>\n",
       "    <tr>\n",
       "      <th>0</th>\n",
       "      <td>LKPR_RUZYNE_Radar_120_520MHz_20201025_091112.wav</td>\n",
       "      <td>Oscar Kilo Papa Mike Bravo descend flight leve...</td>\n",
       "    </tr>\n",
       "    <tr>\n",
       "      <th>1</th>\n",
       "      <td>LKPR_RUZYNE_Radar_120_520MHz_20201025_120512.wav</td>\n",
       "      <td>Oscar Kilo Kilo Echo Alfa Praha Radar identifi...</td>\n",
       "    </tr>\n",
       "    <tr>\n",
       "      <th>2</th>\n",
       "      <td>LKPR_RUZYNE_Radar_120_520MHz_20201025_121325.wav</td>\n",
       "      <td>Ryanair Seven Three Alpha Hotel turn left head...</td>\n",
       "    </tr>\n",
       "    <tr>\n",
       "      <th>3</th>\n",
       "      <td>LKPR_RUZYNE_Radar_120_520MHz_20201025_130407.wav</td>\n",
       "      <td>Oscar Kilo Kilo Uniform November proceed direc...</td>\n",
       "    </tr>\n",
       "    <tr>\n",
       "      <th>4</th>\n",
       "      <td>LKPR_RUZYNE_Radar_120_520MHz_20201025_140929.wav</td>\n",
       "      <td>Eurowings Seven Alfa Bravo turn right heading ...</td>\n",
       "    </tr>\n",
       "  </tbody>\n",
       "</table>\n",
       "</div>"
      ],
      "text/plain": [
       "                                               path  \\\n",
       "0  LKPR_RUZYNE_Radar_120_520MHz_20201025_091112.wav   \n",
       "1  LKPR_RUZYNE_Radar_120_520MHz_20201025_120512.wav   \n",
       "2  LKPR_RUZYNE_Radar_120_520MHz_20201025_121325.wav   \n",
       "3  LKPR_RUZYNE_Radar_120_520MHz_20201025_130407.wav   \n",
       "4  LKPR_RUZYNE_Radar_120_520MHz_20201025_140929.wav   \n",
       "\n",
       "                                            sentence  \n",
       "0  Oscar Kilo Papa Mike Bravo descend flight leve...  \n",
       "1  Oscar Kilo Kilo Echo Alfa Praha Radar identifi...  \n",
       "2  Ryanair Seven Three Alpha Hotel turn left head...  \n",
       "3  Oscar Kilo Kilo Uniform November proceed direc...  \n",
       "4  Eurowings Seven Alfa Bravo turn right heading ...  "
      ]
     },
     "execution_count": 4,
     "metadata": {},
     "output_type": "execute_result"
    }
   ],
   "source": [
    "df_atco2 = pd.read_csv(path.join(DATA_DIR, ATCO2_CSV))\n",
    "\n",
    "# remove old path\n",
    "df_atco2[\"path\"] = df_atco2[\"path\"].apply(remove_path)\n",
    "\n",
    "df_atco2.head()"
   ]
  },
  {
   "cell_type": "code",
   "execution_count": 5,
   "id": "8a48fc07-a098-4528-9a6d-e41656f07b83",
   "metadata": {
    "tags": []
   },
   "outputs": [
    {
     "name": "stdout",
     "output_type": "stream",
     "text": [
      "\n",
      "All files match...\n"
     ]
    }
   ],
   "source": [
    "# check that for every row there is a wav file\n",
    "list_wav = glob.glob(path.join(DATA_DIR, \"*.wav\"))\n",
    "\n",
    "# controlla che le due liste abbiano eguale lunghezza\n",
    "assert df_atco2.shape[0] == len(list_wav)\n",
    "\n",
    "# controlla che per ogni riga del csv ci sia il file wav\n",
    "df_paths = list(df_atco2[\"path\"].values)\n",
    "\n",
    "not_found = 0\n",
    "for my_path in df_paths:\n",
    "    # add prefix\n",
    "    new_path = DATA_DIR + \"/\" + my_path\n",
    "    if new_path not in list_wav:\n",
    "        print(f\"{path} not found\")\n",
    "        not_found += 1\n",
    "\n",
    "print()\n",
    "if not_found == 0:\n",
    "    print(\"All files match...\")\n",
    "else:\n",
    "    print(f\"{not_found} files not found...\")"
   ]
  },
  {
   "cell_type": "markdown",
   "id": "db31dcf0-d369-4408-8dbb-cb1ce95e820c",
   "metadata": {},
   "source": [
    "#### Create the dataset"
   ]
  },
  {
   "cell_type": "code",
   "execution_count": 6,
   "id": "27902b2b-3264-4d79-b1cc-dff322668eb9",
   "metadata": {
    "tags": []
   },
   "outputs": [],
   "source": [
    "# create lists\n",
    "list_path = list(df_atco2[\"path\"].values)\n",
    "list_text = list(df_atco2[\"sentence\"].values)\n",
    "\n",
    "list_new_path = [\"./\" + DATA_DIR + \"/\" + f_name for f_name in list_path]\n",
    "\n",
    "# replace path\n",
    "audio_dict = {\"path\": list_new_path, \"audio\": list_new_path, \"sentence\": list_text}"
   ]
  },
  {
   "cell_type": "code",
   "execution_count": 7,
   "id": "e51d1e0c-d09e-44b6-946d-a4ca9538bca0",
   "metadata": {
    "tags": []
   },
   "outputs": [],
   "source": [
    "# create the dataset\n",
    "audio_dataset = Dataset.from_dict(audio_dict)\n",
    "\n",
    "# ci assicuriamo anche che sia a 16 Khz\n",
    "audio_dataset = audio_dataset.cast_column(\"audio\", Audio(sampling_rate=SAMPLING_RATE))"
   ]
  },
  {
   "cell_type": "markdown",
   "id": "bcafe954-2600-47f8-bb25-fdb0e7f6ab14",
   "metadata": {
    "tags": []
   },
   "source": [
    "#### Check"
   ]
  },
  {
   "cell_type": "code",
   "execution_count": 8,
   "id": "b23b3cdd-5cb3-4e7f-a699-2478c71c16c3",
   "metadata": {
    "tags": []
   },
   "outputs": [
    {
     "data": {
      "text/plain": [
       "{'path': './atco2_orig2/LKPR_RUZYNE_Radar_120_520MHz_20201025_091112.wav',\n",
       " 'audio': {'path': './atco2_orig2/LKPR_RUZYNE_Radar_120_520MHz_20201025_091112.wav',\n",
       "  'array': array([ 0.0000000e+00,  0.0000000e+00,  0.0000000e+00, ...,\n",
       "         -6.1035156e-05, -6.1035156e-05, -6.1035156e-05], dtype=float32),\n",
       "  'sampling_rate': 16000},\n",
       " 'sentence': 'Oscar Kilo Papa Mike Bravo descend flight level one hundred level one hundred Oscar Kilo Papa Mike Bravo '}"
      ]
     },
     "execution_count": 8,
     "metadata": {},
     "output_type": "execute_result"
    }
   ],
   "source": [
    "audio_dataset[0]"
   ]
  },
  {
   "cell_type": "code",
   "execution_count": 9,
   "id": "b04d4faf-ec19-4649-947c-7a7b1d5e02cd",
   "metadata": {
    "tags": []
   },
   "outputs": [],
   "source": [
    "atco2_ds = audio_dataset.train_test_split(shuffle=True, test_size=TEST_FRAC)"
   ]
  },
  {
   "cell_type": "code",
   "execution_count": 10,
   "id": "8441601d-42cf-47e4-9426-c6f78a3b191f",
   "metadata": {
    "tags": []
   },
   "outputs": [
    {
     "data": {
      "text/plain": [
       "{'path': './atco2_orig2/LSGS_SION_Ground_Control_121_7MHz_20210501_065354.wav',\n",
       " 'audio': {'path': './atco2_orig2/LSGS_SION_Ground_Control_121_7MHz_20210501_065354.wav',\n",
       "  'array': array([ 0.        ,  0.        ,  0.        , ..., -0.00045776,\n",
       "         -0.00045776, -0.00045776], dtype=float32),\n",
       "  'sampling_rate': 16000},\n",
       " 'sentence': 'Hotel Echo X-ray report downwind wind calm runway two five cleared for takeoff '}"
      ]
     },
     "execution_count": 10,
     "metadata": {},
     "output_type": "execute_result"
    }
   ],
   "source": [
    "atco2_ds[\"train\"][0]"
   ]
  },
  {
   "cell_type": "markdown",
   "id": "c6a877c5-46c8-4bf9-9fcb-c723cd938cf2",
   "metadata": {
    "tags": []
   },
   "source": [
    "#### Save the dataset"
   ]
  },
  {
   "cell_type": "code",
   "execution_count": 11,
   "id": "81b147f3-3b85-478e-a1d3-028a7410be5b",
   "metadata": {
    "tags": []
   },
   "outputs": [
    {
     "data": {
      "application/vnd.jupyter.widget-view+json": {
       "model_id": "",
       "version_major": 2,
       "version_minor": 0
      },
      "text/plain": [
       "Flattening the indices:   0%|          | 0/504 [00:00<?, ? examples/s]"
      ]
     },
     "metadata": {},
     "output_type": "display_data"
    },
    {
     "data": {
      "application/vnd.jupyter.widget-view+json": {
       "model_id": "",
       "version_major": 2,
       "version_minor": 0
      },
      "text/plain": [
       "Saving the dataset (0/1 shards):   0%|          | 0/504 [00:00<?, ? examples/s]"
      ]
     },
     "metadata": {},
     "output_type": "display_data"
    },
    {
     "data": {
      "application/vnd.jupyter.widget-view+json": {
       "model_id": "",
       "version_major": 2,
       "version_minor": 0
      },
      "text/plain": [
       "Flattening the indices:   0%|          | 0/56 [00:00<?, ? examples/s]"
      ]
     },
     "metadata": {},
     "output_type": "display_data"
    },
    {
     "data": {
      "application/vnd.jupyter.widget-view+json": {
       "model_id": "",
       "version_major": 2,
       "version_minor": 0
      },
      "text/plain": [
       "Saving the dataset (0/1 shards):   0%|          | 0/56 [00:00<?, ? examples/s]"
      ]
     },
     "metadata": {},
     "output_type": "display_data"
    },
    {
     "name": "stdout",
     "output_type": "stream",
     "text": [
      "Dataset saved in HF format in atco2_hf\n"
     ]
    }
   ],
   "source": [
    "# save the dataset in HF format\n",
    "\n",
    "atco2_ds.save_to_disk(HF_DIR)\n",
    "\n",
    "print(f\"Dataset saved in HF format in {HF_DIR}\")"
   ]
  },
  {
   "cell_type": "code",
   "execution_count": null,
   "id": "bab7b964-1b94-4195-a48d-143d945f77a5",
   "metadata": {},
   "outputs": [],
   "source": []
  }
 ],
 "metadata": {
  "kernelspec": {
   "display_name": "Python 3 (ipykernel)",
   "language": "python",
   "name": "python3"
  },
  "language_info": {
   "codemirror_mode": {
    "name": "ipython",
    "version": 3
   },
   "file_extension": ".py",
   "mimetype": "text/x-python",
   "name": "python",
   "nbconvert_exporter": "python",
   "pygments_lexer": "ipython3",
   "version": "3.10.0"
  }
 },
 "nbformat": 4,
 "nbformat_minor": 5
}
