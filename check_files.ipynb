{
 "cells": [
  {
   "cell_type": "markdown",
   "id": "192a429b-cbca-4ef6-9354-b39488b8297c",
   "metadata": {},
   "source": [
    "### Check of all the files in the local dir"
   ]
  },
  {
   "cell_type": "code",
   "execution_count": 1,
   "id": "54b83c5f-17af-420f-a3c2-d37855616204",
   "metadata": {
    "tags": []
   },
   "outputs": [],
   "source": [
    "import os\n",
    "import glob\n",
    "from tqdm import tqdm\n",
    "from os import path\n",
    "import pandas as pd\n",
    "from datasets import load_dataset, Audio\n",
    "from datasets import Dataset\n",
    "\n",
    "from audio_utils import (check_channels,\n",
    "                        check_max_length,\n",
    "                        check_sampling_rate)"
   ]
  },
  {
   "cell_type": "code",
   "execution_count": 2,
   "id": "f05604eb-27c5-46c4-9394-4b6e727b3bb5",
   "metadata": {
    "tags": []
   },
   "outputs": [],
   "source": [
    "EXT = \"wav\"\n",
    "DATA_DIR = \"atco2_orig\"\n",
    "ATCO2_CSV = \"atco2.csv\"\n",
    "\n",
    "# the expected sampling rate\n",
    "SAMPLING_RATE = 16000\n",
    "\n",
    "# MAX length in secs\n",
    "MAX_LENGTH = 30\n",
    "\n",
    "# expected: MONO\n",
    "N_CHANNELS = 1"
   ]
  },
  {
   "cell_type": "code",
   "execution_count": 3,
   "id": "9ce058c5-aef5-4753-a0a1-a0da0b948e8d",
   "metadata": {
    "tags": []
   },
   "outputs": [],
   "source": [
    "def remove_path(f_name):\n",
    "    new_name = f_name.split(\"/\")[-1]\n",
    "    \n",
    "    return new_name"
   ]
  },
  {
   "cell_type": "code",
   "execution_count": 4,
   "id": "a9c70c6e-a1d4-4e24-bdb5-3f3ee7908f2f",
   "metadata": {
    "tags": []
   },
   "outputs": [],
   "source": [
    "df_atco2 = pd.read_csv(path.join(DATA_DIR, ATCO2_CSV))\n",
    "\n",
    "# remove old path\n",
    "df_atco2['path'] = df_atco2['path'].apply(remove_path)\n",
    "\n",
    "list_wav = glob.glob(path.join(DATA_DIR, f\"*.{EXT}\"))"
   ]
  },
  {
   "cell_type": "code",
   "execution_count": 5,
   "id": "aa2be602-e206-497a-ab45-956c0c6ee8aa",
   "metadata": {
    "tags": []
   },
   "outputs": [
    {
     "name": "stderr",
     "output_type": "stream",
     "text": [
      "100%|███████████████████████████████████████████████████████████████████████████████████████| 560/560 [00:00<00:00, 1143.23it/s]"
     ]
    },
    {
     "name": "stdout",
     "output_type": "stream",
     "text": [
      "Duration : 32.8 s.\n",
      "WARN: atco2_orig/LSZB_BERN_Approach_127_3MHz_20210416_090122.wav exceed 30 sec. as duration...\n",
      "\n",
      "OK: All files have 16000 as sampling rate...\n",
      "There are 1 file/s exceeding 30 s....\n",
      "OK: All files are mono...\n"
     ]
    },
    {
     "name": "stderr",
     "output_type": "stream",
     "text": [
      "\n"
     ]
    }
   ],
   "source": [
    "# check the sample rate, max_length, mono\n",
    "n_ko_srate = 0\n",
    "n_ko_mlength = 0\n",
    "n_ko_channels = 0\n",
    "\n",
    "for f_name in tqdm(list_wav):\n",
    "    # check sample_rate\n",
    "    if not check_sampling_rate(f_name, SAMPLING_RATE):\n",
    "        print(f\"WARN: {f_name} has not {SAMPLING_RATE} as sampling rate...\")\n",
    "        n_ko_srate += 1\n",
    "    \n",
    "    # check max_length (duration)\n",
    "    if not check_max_length(f_name, MAX_LENGTH):\n",
    "        print(f\"WARN: {f_name} exceed {MAX_LENGTH} sec. as duration...\")\n",
    "        n_ko_mlength += 1\n",
    "    \n",
    "    # check if mono\n",
    "    if not check_channels(f_name, N_CHANNELS):\n",
    "        print(f\"WARN: {f_name} is NOT mono...\")\n",
    "        n_ko_channels += 1\n",
    "        \n",
    "\n",
    "print()\n",
    "if n_ko_srate == 0:\n",
    "    print(f\"OK: All files have {SAMPLING_RATE} as sampling rate...\")\n",
    "else:\n",
    "    print(f\"There are {n_ko_srate} files with unexpected sampling rate...\")\n",
    "    \n",
    "if n_ko_mlength == 0:\n",
    "    print(f\"OK: All files have length less than {MAX_LENGTH}...\")\n",
    "else:\n",
    "    print(f\"There are {n_ko_mlength} file/s exceeding {MAX_LENGTH} s....\")\n",
    "\n",
    "if n_ko_channels == 0:\n",
    "    print(f\"OK: All files are mono...\")\n",
    "else:\n",
    "    print(f\"There are {n_ko_channels} not mono....\")"
   ]
  },
  {
   "cell_type": "code",
   "execution_count": 6,
   "id": "f3d2e37a-f0ed-4d92-96e6-39c198eb8787",
   "metadata": {
    "tags": []
   },
   "outputs": [
    {
     "name": "stderr",
     "output_type": "stream",
     "text": [
      "100%|█████████████████████████████████████████████████████████████████████████████████████| 560/560 [00:00<00:00, 101785.85it/s]"
     ]
    },
    {
     "name": "stdout",
     "output_type": "stream",
     "text": [
      "\n",
      "All files match with csv...\n"
     ]
    },
    {
     "name": "stderr",
     "output_type": "stream",
     "text": [
      "\n"
     ]
    }
   ],
   "source": [
    "# controlla che le due liste (csv, wav in dir) abbiano eguale lunghezza\n",
    "assert (df_atco2.shape[0] == len(list_wav))\n",
    "\n",
    "# controlla che per ogni riga del csv ci sia il file wav\n",
    "df_paths = list(df_atco2['path'].values)\n",
    "\n",
    "not_found = 0\n",
    "for my_path in tqdm(df_paths):\n",
    "    # add path, old  path have been removed\n",
    "    new_path = DATA_DIR + \"/\" + my_path\n",
    "    if new_path not in list_wav:\n",
    "        print(f\"{path} not found\")\n",
    "        not_found += 1\n",
    "        \n",
    "print()\n",
    "if not_found == 0:\n",
    "    print(\"All files match with csv...\")\n",
    "else:\n",
    "    print(f\"{not_found} files not found in csv...\")"
   ]
  },
  {
   "cell_type": "code",
   "execution_count": null,
   "id": "9d5ecc60-fabc-4e52-adb8-af83743e8881",
   "metadata": {},
   "outputs": [],
   "source": []
  }
 ],
 "metadata": {
  "kernelspec": {
   "display_name": "Python 3 (ipykernel)",
   "language": "python",
   "name": "python3"
  },
  "language_info": {
   "codemirror_mode": {
    "name": "ipython",
    "version": 3
   },
   "file_extension": ".py",
   "mimetype": "text/x-python",
   "name": "python",
   "nbconvert_exporter": "python",
   "pygments_lexer": "ipython3",
   "version": "3.10.0"
  }
 },
 "nbformat": 4,
 "nbformat_minor": 5
}
