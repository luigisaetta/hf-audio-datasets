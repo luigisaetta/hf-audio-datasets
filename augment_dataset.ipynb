{
 "cells": [
  {
   "cell_type": "markdown",
   "id": "768529ca-c4e4-43c9-92a9-982ed437b181",
   "metadata": {},
   "source": [
    "### Creat a HF dataset augmented"
   ]
  },
  {
   "cell_type": "code",
   "execution_count": 1,
   "id": "52810dde-c5b9-4729-a4ee-ace80d490373",
   "metadata": {
    "tags": []
   },
   "outputs": [],
   "source": [
    "import os\n",
    "import glob\n",
    "from os import path\n",
    "import pandas as pd\n",
    "from datasets import Dataset, load_dataset, Audio"
   ]
  },
  {
   "cell_type": "code",
   "execution_count": null,
   "id": "4f2ade67-9921-4b25-888d-1f299b42e53f",
   "metadata": {},
   "outputs": [],
   "source": []
  }
 ],
 "metadata": {
  "kernelspec": {
   "display_name": "Python 3 (ipykernel)",
   "language": "python",
   "name": "python3"
  },
  "language_info": {
   "codemirror_mode": {
    "name": "ipython",
    "version": 3
   },
   "file_extension": ".py",
   "mimetype": "text/x-python",
   "name": "python",
   "nbconvert_exporter": "python",
   "pygments_lexer": "ipython3",
   "version": "3.10.0"
  }
 },
 "nbformat": 4,
 "nbformat_minor": 5
}
