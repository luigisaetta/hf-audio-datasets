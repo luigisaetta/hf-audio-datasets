{
 "cells": [
  {
   "cell_type": "markdown",
   "id": "1087cbe7-b427-4151-b928-b0e90cc9df07",
   "metadata": {},
   "source": [
    "### Compute dataset size from HF dataset"
   ]
  },
  {
   "cell_type": "code",
   "execution_count": 1,
   "id": "04580b45-0e0e-4ef7-ae3d-065db138ee80",
   "metadata": {
    "tags": []
   },
   "outputs": [],
   "source": [
    "from datasets import load_dataset, load_from_disk, Audio\n",
    "from datasets import Dataset\n",
    "\n",
    "from audio_utils import compute_duration_min"
   ]
  },
  {
   "cell_type": "code",
   "execution_count": 2,
   "id": "f5924787-6380-4cf1-ac3a-b82551f21699",
   "metadata": {
    "tags": []
   },
   "outputs": [],
   "source": [
    "# this is the local directory\n",
    "HF_DIR = \"atco2_hf_augmented\"\n",
    "\n",
    "SAMPLING_RATE = 16000"
   ]
  },
  {
   "cell_type": "code",
   "execution_count": 3,
   "id": "fbc7dffd-4b96-43f7-bd01-d3bd0c5bb8a1",
   "metadata": {
    "tags": []
   },
   "outputs": [],
   "source": [
    "# load the dataset from local directory\n",
    "loaded_ds = load_from_disk(HF_DIR)"
   ]
  },
  {
   "cell_type": "code",
   "execution_count": 4,
   "id": "53e18091-c3b9-4365-9519-0074a44acda2",
   "metadata": {},
   "outputs": [
    {
     "data": {
      "text/plain": [
       "DatasetDict({\n",
       "    train: Dataset({\n",
       "        features: ['path', 'audio', 'sentence'],\n",
       "        num_rows: 1512\n",
       "    })\n",
       "    test: Dataset({\n",
       "        features: ['path', 'audio', 'sentence'],\n",
       "        num_rows: 56\n",
       "    })\n",
       "})"
      ]
     },
     "execution_count": 4,
     "metadata": {},
     "output_type": "execute_result"
    }
   ],
   "source": [
    "loaded_ds"
   ]
  },
  {
   "cell_type": "code",
   "execution_count": 5,
   "id": "0c1be271-fdeb-45d3-bd8c-3bc0794b192f",
   "metadata": {
    "tags": []
   },
   "outputs": [
    {
     "name": "stdout",
     "output_type": "stream",
     "text": [
      "\n"
     ]
    },
    {
     "name": "stderr",
     "output_type": "stream",
     "text": [
      "100%|██████████████████████████████████████████████████████████████████████████████████| 1512/1512 [00:00<00:00, 3484498.71it/s]\n"
     ]
    },
    {
     "name": "stdout",
     "output_type": "stream",
     "text": [
      "Tot. duration train ds: 179.7 min.\n"
     ]
    },
    {
     "name": "stderr",
     "output_type": "stream",
     "text": [
      "100%|██████████████████████████████████████████████████████████████████████████████████████| 56/56 [00:00<00:00, 1373573.24it/s]"
     ]
    },
    {
     "name": "stdout",
     "output_type": "stream",
     "text": [
      "Tot. duration test ds: 6.5 min.\n"
     ]
    },
    {
     "name": "stderr",
     "output_type": "stream",
     "text": [
      "\n"
     ]
    }
   ],
   "source": [
    "print()\n",
    "print(\n",
    "    f\"Tot. duration train ds: {compute_duration_min(loaded_ds['train'], SAMPLING_RATE)} min.\"\n",
    ")\n",
    "print(\n",
    "    f\"Tot. duration test ds: {compute_duration_min(loaded_ds['test'], SAMPLING_RATE)} min.\"\n",
    ")"
   ]
  },
  {
   "cell_type": "code",
   "execution_count": null,
   "id": "c166e0b8-b10c-4e54-9059-07181912f63b",
   "metadata": {},
   "outputs": [],
   "source": []
  }
 ],
 "metadata": {
  "kernelspec": {
   "display_name": "Python 3 (ipykernel)",
   "language": "python",
   "name": "python3"
  },
  "language_info": {
   "codemirror_mode": {
    "name": "ipython",
    "version": 3
   },
   "file_extension": ".py",
   "mimetype": "text/x-python",
   "name": "python",
   "nbconvert_exporter": "python",
   "pygments_lexer": "ipython3",
   "version": "3.10.0"
  }
 },
 "nbformat": 4,
 "nbformat_minor": 5
}
