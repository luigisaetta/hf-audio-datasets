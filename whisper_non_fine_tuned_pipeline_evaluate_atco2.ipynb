{
 "cells": [
  {
   "cell_type": "markdown",
   "id": "d3b0de75-95d7-4cf4-a7bc-e615963b8aba",
   "metadata": {
    "tags": []
   },
   "source": [
    "### Evaluate Whisper Medium on ATCO2\n",
    "\n",
    "* this time we evaluate the vanilla model, not fine-tuned on atco2\n",
    "* we see that WER is lower, demonstrating the importance of fine tuning"
   ]
  },
  {
   "cell_type": "code",
   "execution_count": 1,
   "id": "a5d5eecb-3e7b-46dd-917f-6570cef6e03b",
   "metadata": {},
   "outputs": [],
   "source": [
    "from tqdm import tqdm\n",
    "from transformers import pipeline\n",
    "from datasets import load_from_disk\n",
    "\n",
    "from evaluate import load\n",
    "\n",
    "# these two file comes from OpenAI Whisper, for text normalization\n",
    "from basic import *\n",
    "from english import *"
   ]
  },
  {
   "cell_type": "code",
   "execution_count": 2,
   "id": "500e980e-bcc7-4067-9f4b-a849e4e12d40",
   "metadata": {
    "tags": []
   },
   "outputs": [],
   "source": [
    "# load the metric definition\n",
    "wer = load(\"wer\")\n",
    "\n",
    "# apply the same text normalization rules as Whisper\n",
    "normalizer = EnglishTextNormalizer()"
   ]
  },
  {
   "cell_type": "code",
   "execution_count": 3,
   "id": "a721a874-903a-4cb9-90d5-59720d8c2cbc",
   "metadata": {
    "tags": []
   },
   "outputs": [],
   "source": [
    "TASK = \"automatic-speech-recognition\"\n",
    "MODEL_LABEL = \"openai/whisper-medium\"\n",
    "\n",
    "HF_DIR = \"atco2_hf\""
   ]
  },
  {
   "cell_type": "code",
   "execution_count": 4,
   "id": "60ad56c9-bf67-4cc7-b3c6-c468e47266b9",
   "metadata": {
    "tags": []
   },
   "outputs": [],
   "source": [
    "# load the dataset from local\n",
    "atco2_hf = load_from_disk(HF_DIR)"
   ]
  },
  {
   "cell_type": "code",
   "execution_count": 5,
   "id": "3b717aee-8d14-4031-92ae-80c2b2446af9",
   "metadata": {
    "tags": []
   },
   "outputs": [
    {
     "data": {
      "text/plain": [
       "Dataset({\n",
       "    features: ['path', 'audio', 'sentence'],\n",
       "    num_rows: 56\n",
       "})"
      ]
     },
     "execution_count": 5,
     "metadata": {},
     "output_type": "execute_result"
    }
   ],
   "source": [
    "ds_test = atco2_hf[\"test\"]\n",
    "\n",
    "ds_test"
   ]
  },
  {
   "cell_type": "code",
   "execution_count": 6,
   "id": "50c54ee6-7695-40ef-a0d2-05d34927cac2",
   "metadata": {
    "tags": []
   },
   "outputs": [
    {
     "data": {
      "application/vnd.jupyter.widget-view+json": {
       "model_id": "59373c0b12e74affbdb2220e14433936",
       "version_major": 2,
       "version_minor": 0
      },
      "text/plain": [
       "Downloading:   0%|          | 0.00/1.97k [00:00<?, ?B/s]"
      ]
     },
     "metadata": {},
     "output_type": "display_data"
    },
    {
     "data": {
      "application/vnd.jupyter.widget-view+json": {
       "model_id": "90aacab657c942859296316f942346bb",
       "version_major": 2,
       "version_minor": 0
      },
      "text/plain": [
       "Downloading:   0%|          | 0.00/3.46k [00:00<?, ?B/s]"
      ]
     },
     "metadata": {},
     "output_type": "display_data"
    },
    {
     "data": {
      "application/vnd.jupyter.widget-view+json": {
       "model_id": "555cb39a7fcf4c61bd0b14e2c995239c",
       "version_major": 2,
       "version_minor": 0
      },
      "text/plain": [
       "Downloading:   0%|          | 0.00/843 [00:00<?, ?B/s]"
      ]
     },
     "metadata": {},
     "output_type": "display_data"
    },
    {
     "data": {
      "application/vnd.jupyter.widget-view+json": {
       "model_id": "7df5d9ae96cd42a3bff97dfa9ba6fa7c",
       "version_major": 2,
       "version_minor": 0
      },
      "text/plain": [
       "Downloading:   0%|          | 0.00/1.04M [00:00<?, ?B/s]"
      ]
     },
     "metadata": {},
     "output_type": "display_data"
    },
    {
     "data": {
      "application/vnd.jupyter.widget-view+json": {
       "model_id": "ff5af3da6d43425d9a04d698dc6a3567",
       "version_major": 2,
       "version_minor": 0
      },
      "text/plain": [
       "Downloading:   0%|          | 0.00/2.20M [00:00<?, ?B/s]"
      ]
     },
     "metadata": {},
     "output_type": "display_data"
    },
    {
     "data": {
      "application/vnd.jupyter.widget-view+json": {
       "model_id": "aeb19bd5c2bc4adda99cf3dcb114a445",
       "version_major": 2,
       "version_minor": 0
      },
      "text/plain": [
       "Downloading:   0%|          | 0.00/2.08k [00:00<?, ?B/s]"
      ]
     },
     "metadata": {},
     "output_type": "display_data"
    },
    {
     "data": {
      "application/vnd.jupyter.widget-view+json": {
       "model_id": "0a91772ddd284a0d8f054c8355c5a372",
       "version_major": 2,
       "version_minor": 0
      },
      "text/plain": [
       "Downloading:   0%|          | 0.00/2.08k [00:00<?, ?B/s]"
      ]
     },
     "metadata": {},
     "output_type": "display_data"
    }
   ],
   "source": [
    "# define the pipeline and a utility method\n",
    "pipe = pipeline(task=TASK, model=MODEL_LABEL)\n",
    "\n",
    "\n",
    "def transcribe(audio):\n",
    "    text = pipe(audio)[\"text\"]\n",
    "\n",
    "    return text"
   ]
  },
  {
   "cell_type": "markdown",
   "id": "014b05eb-a498-4e5b-900f-fa212fd91fd9",
   "metadata": {},
   "source": [
    "#### Loop all over the test dataset and compute transcriptions"
   ]
  },
  {
   "cell_type": "code",
   "execution_count": 7,
   "id": "ff53b7c5-5fc6-4af1-88b2-b8a24489fa46",
   "metadata": {
    "tags": []
   },
   "outputs": [
    {
     "name": "stderr",
     "output_type": "stream",
     "text": [
      "  0%|                                                                                                                   | 0/56 [00:00<?, ?it/s]/Users/lsaetta/miniforge3/envs/whisper-tuning-event/lib/python3.10/site-packages/transformers/generation/utils.py:1273: UserWarning: Neither `max_length` nor `max_new_tokens` has been set, `max_length` will default to 448 (`generation_config.max_length`). Controlling `max_length` via the config is deprecated and `max_length` will be removed from the config in v5 of Transformers -- we recommend using `max_new_tokens` to control the maximum length of the generation.\n",
      "  warnings.warn(\n",
      "100%|██████████████████████████████████████████████████████████████████████████████████████████████████████████| 56/56 [05:28<00:00,  5.87s/it]\n"
     ]
    }
   ],
   "source": [
    "predicted = []\n",
    "expected = []\n",
    "\n",
    "# loop over all test set\n",
    "for row in tqdm(ds_test):\n",
    "    # to get the right WER we neeed to apply same normalization rules as Whisper\n",
    "    # in the local hf dataset text is NOT normalized\n",
    "    expected.append(normalizer(row[\"sentence\"]))\n",
    "\n",
    "    text_predicted = transcribe(row[\"audio\"])\n",
    "\n",
    "    predicted.append(normalizer(text_predicted))"
   ]
  },
  {
   "cell_type": "markdown",
   "id": "60f78273-c4c7-4088-a1c4-99ba33ba2422",
   "metadata": {
    "tags": []
   },
   "source": [
    "#### Compute WER"
   ]
  },
  {
   "cell_type": "code",
   "execution_count": 14,
   "id": "ce059b83-b300-4c76-91ea-204cc3db6d6b",
   "metadata": {
    "tags": []
   },
   "outputs": [
    {
     "name": "stdout",
     "output_type": "stream",
     "text": [
      "WER computed on test set is 0.64.\n"
     ]
    }
   ],
   "source": [
    "# strict normalization\n",
    "new_predicted = []\n",
    "new_expected = []\n",
    "\n",
    "for pair in zip(predicted, expected):\n",
    "    new_predicted.append(normalizer(pair[0]))\n",
    "    new_expected.append(normalizer(pair[1]))\n",
    "\n",
    "wer_score = wer.compute(predictions=new_predicted, references=new_expected)\n",
    "\n",
    "print(f\"WER computed on test set is {round(wer_score, 2)}.\")"
   ]
  },
  {
   "cell_type": "markdown",
   "id": "f3c5f511-bbc7-4d1f-9334-792f97bb968d",
   "metadata": {},
   "source": [
    "Without fine tuning WER is not good.\n",
    "\n",
    "ATCO2 is based on a very specilaized domain language, with words not so common in spoken english.\n",
    "\n",
    "And more, words not so common in the datasets Whsiper has been trained on."
   ]
  },
  {
   "cell_type": "code",
   "execution_count": 15,
   "id": "f400fac0-3700-49c9-8a99-02b8b5980ed5",
   "metadata": {},
   "outputs": [
    {
     "name": "stdout",
     "output_type": "stream",
     "text": [
      "tango 335 frequency change approved goodbye goodbye ---  tango 335 frequency change approved good bye good bye\n",
      "c est la papa passion granello ---  sierra alpha papa sion ground hello\n",
      "continue approach runway 16 r 108.7791 ---  continue approach runway 16 right china eastern 77 niner one\n",
      "telgo papa make a 180 stay clear of the runway taxi to holding point foxrot ---  hotel golf papa make a 180 stay clear of the runway taxi to holding point foxtrot\n",
      "cqh air canada 7216 heavy with you we are established 6 miles 14 air canada 7216 tower good morning wind 35 30 degrees 3 knots runway 14 cleared to land ---  tower guten morgen air canada 7216 heavy with you we are established 6 miles 14 air canada 7216 tower good morning wind 350 degrees 3 knots runway 14 cleared to land\n",
      "sydney tower corner 642 corner 642 sydney tower g day ---  sydney tower qantas 642 qantas 642 sydney tower good day\n",
      "am 139 taxi via foxtrot cross runway 12 g juliet stand 14 a cross runway 12 g juliet stand 14 a 139 ---  emirates 139 taxi via foxtrot cross runway 12 golf juliett stand 14 alpha taxi via foxtrot cross runway 12 golf juliett stand 14 alpha emirates 139\n",
      "runway 165 cleared to land just 508 ---  runway 16 right cleared to land jetstar 508\n",
      "sunita test out 767 test out 767 sunita ---  sydney tower jetstar 767 jetstar 767 sydney tower\n",
      "nw dji the pressing traffic is joining downwind wind one question 260 degrees one nana knots runway 25 cleared for takeoff report passing one 3000 feet in climb ---  november hotel juliett the preceding traffic is joining downwind wind one correction 260 degrees 19 knots runway 25 cleared for takeoff report passing 13000 feet and climb\n",
      "kilo brau wichter bern ---  bern approach hotel bravo kilo bravo victor kilo bravo victor bern\n",
      "csa one dz descend flight level 100 no speed restrictions descending flight level 108 free speed csa one dz ---  csa one delta zulu descend flight level 100 no speed restrictions descending flight level 100 free speed csa one delta zulu\n",
      "hbkp echo 210 4 knots runway 25 cleared take off report november whiskey ---  hotel bravo kilo papa echo 210 degrees 4 knots runway 25 cleared takeoff report november whiskey\n",
      "kielan svantrivesky mate meni preznadejnou vektoru je laska prosena ve 24 a vyzvy v roce zpetnou do 260 kt ---  klm 73 whiskey maintain present heading for vectoring for ils approach runway 24 and reduce your speed now below 260 knots\n",
      "wittoske auf der wichtow aufgabe wittoske auf der wichtow aufgabe ---  helicopter heli victor oscar good afternoon victor oscar good afternoon\n",
      "papa wang vacate to the left and then straight ahead until further advice to the left and then straight ahead ---  papa mike vacate to the left and then straight ahead until further advised the left and then straight ahead hotel papa mike\n",
      "direct tower l 1202 good afternoon established ils 14 l 1202 tower allow wind 160 at grace 4 knots runway 14 cleared to land vacate and on discretion cleared to land runway 14 vacate and on discretion l 1202 ---  zurich tower legend 1202 good afternoon established ils 14 legend 1202 tower hello wind 160 degrees 4 knots runway 14 cleared to land vacate at own discretion cleared to land runway 14 and vacate at own discretion legend 1202\n",
      "lh to get you past l 2 continue for direct approach of number one report final 25 next final 25 lh to you ---  hotel charlie juliett you passed echo 2 continue for direct approach as number one report final 25 next final 25 hotel charlie juliett\n",
      "fraction 250 f try to descend fl 90 ---  fraction 250 foxtrot descend flight level 90\n",
      "helioscar alpha traffic wise the runway 32 is available but the wind is 100 degrees with 10 knots ---  heli oscar alpha traffic wise the runway 32 is available but the wind is 100 degrees with 10 knots\n",
      "we will taxi to sector blue when ready hotl trolling of epr ---  we will taxi to sector blue when ready hotel charlie november\n",
      "hotel bravo papa november lima this is bern tower contact toon on 123.255 ---  hotel bravo papa november lima this bern tower contact thun on 123 decimal 255\n",
      "9050 1927 bye bye ---  1012 runway 27 bye bye\n",
      "hbkhr 8 b qnh 81024 taxi to holding position papa one and report ready for departure once you are clear of the inbound hdl ---  hotel bravo kilo hotel romeo apron hello qnh 1024 taxi to holding position papa one and report ready for departure once your are clear after inbound hotel delta lima\n",
      "again have heliport juliet heliport juliet join mid left heli circuit 32 land at own discretion swiss helicopter wind 40 degrees 10 knots ---  say again heli lima juliett heli lima juliett join mid left heli circuit 32 land at own discretion swiss helicopter wind 40 degrees 10 knots\n",
      "c etait le m 15 b oui m 15 b vous vous tournez maintenant oui m 15 b sir gk arretez s il vous plait je vous demande de retourner ---  it was for mosquito 15 bravo yes mosquito 15 bravo are you turning base now turning base now mosquito 15 bravo sierra sierra golf kilo stop please hold position sorry sir hold position call you back\n",
      "oxford lima dalpa hot position and make your run up at your present position qnh 1015 ---  foxtrot lima delta hold position and make your run up at your present position qnh 1015\n",
      "le yonk i est en train de se depasser a 240 15 knots fato 25 vous avez des questions ---  heli hotel yankee wind 240 degrees 15 knots 5225 landing on discretion landing on discretion 5225 hotel yankee\n",
      "ali oskar hallo frequenzier channel pro tschone schone ali oskar hallo ---  heli oscar zulu frequency change approved schone beste schone heli oscar zulu\n",
      "city tower just start 763 just start 763 city tower ---  tower jetstar 763 jetstar 763 sydney ciao\n",
      "hg next left via l 2 to blue sector ---  hotel hotel golf next left via delta to blue sector\n",
      "kofek do you want to stay at level 100 or are you able to descend ---  hotel golf echo do you want to stay at level 100 or are you able to descend\n",
      "zaveril se zaveril se zaveril se zaveril se zaveril se zaveril se zaveril se zaveril se zaveril se zaveril se zaveril se zaveril se zaveril se zaveril se zaveril se zaveril se zaveril se zaveril se zaveril se zaveril se zaveril se zaveril se zaveril se zaveril se zaveril se zaveril se zaveril se zaveril se zaveril se zaveril se zaveril se zaveril se zaveril se zaveril se zaveril se zaveril se zaveril se zaveril se zaveril se zaveril se zaveril se zaveril se zaveril se zaveril se zaveril se zaveril se zaveril se zaveril se zaveril se zaveril se zaveril se zaveril se zaveril se zaveril se zaveril se zaveril se zaveril se zaveril se zaveril se zaveril se zaveril se zaveril se zaverl se zav ---  kilo lima papa victor standby for runway 9 for now follow tumka 4 charlie arrival due to departure from brno\n",
      "oxford lima taxi to olympon bravo runway 25 ---  foxtrot lima delta taxi to holding point bravo runway 25 point bravo runway 25 foxtrot lima delta\n",
      "רותר איריקו איכריה וינט קלמ רונה 2 5 קליר טלשנגו רונה 2 5 קליר טלשנגו רונה 2 5 ---  hotel echo x ray wind calm runway 25 cleared touch and go runway 25 cleared touch and go hotel echo x ray\n",
      "426 3 du 2 x 5 ---  426 redue 2 by 5\n",
      "rega one in case you are still with me you may lift the frequency ---  rega one in case you still with me you may leave the frequency\n",
      "bir 712 taxi via delta line up runway 4 via delta line up 4 bir 712 ---  bair 712 taxi via delta line up runway 4 via delta line up 4 bair 712\n",
      "שום אלוהים אתם בברובה זולו שאלי זה לואויץ ס סטרפון ואלדניגה לא אלדיגויד פורטה רוקמישנט שסטרפין נקור one לא אלדיגויד ---  sion heli hotel bravo zulu charlie zulu we just upon val d annivier low altitude for hook mission etablished for one low altitude\n",
      "hotel hotel bravo traffic to auschwitz hotel hotel bravo thank you ---  hotel hotel bravo 7000 feet hotel hotel bravo thank you\n",
      "tower good morning swiss 197 heavy rmt 14 established swiss 197 tower good morning wind 80 degrees 12 knots gusting one.9 runway 14 cleared to land ok total 2 ---  tower guten morgen swiss 197 heavy rnp 14 established swiss 197 tower guten morgen wind 80 degrees 12 knots gusting 19 runway 14 cleared to land vacate hotel 2\n",
      "lv 16 r cleared to land malaysia 123 ---  runway 16 right cleared to land malaysian 123\n",
      "cindy sarah good afternoon fennec 77 heavy inbound ils runway 16 r ---  sydney tower good afternoon fedex 77 heavy inbound ils runway 16 right fedex 77 heavy sydney tower good day\n",
      "dir 9051 standby call you back ---  bair 951 stand by call you back\n",
      "fox lima d j runway 25 ---  foxtrot lima delta join downwind runway 25 tourning downwind runway 25 foxtrot lima delta\n",
      "und der golf papa frequency change approved ---  hotel golf papa leaving ctr direction november hotel golf papa frequency change approved\n",
      "vrchomete zaved a totalne ---  frequency change approved a toute a l heure\n",
      "air france 1080 standby now descend to descend flight lost 70 air france 1080 ---  air france 108 zulu standby now descend to descend flight level 70 air france 108 zulu\n",
      "dream team 404 kt charlie lima and quebec behind full me car to stand 3 ---  dream team 404 kilo taxi charlie lima and quebec behind follow me car to stand sierra 3\n",
      "tango 313 strong run here again taxi approved ---  tango 313 sion ground hello again taxi approved\n",
      "china southern 326 contact departure contact departure china southern 326 ---  china southern 326 contact departure contact departure china southern 326\n",
      "n one 4800 ft n one n 2 ---  hotel bravo kilo charlie juliett echo 150084800 feet hello charlie juliett next report echo 2\n",
      "atc yr after touch and go is available ---  hotel golf yankee rodger clearance after touch and go is available\n",
      "qatar is over to my contact this is juliette cross runway 10 contact apron 121.755 goodbye ---  qatari 2 mike on taxiway juliett cross runway 10 contact apron 121 decimal 755 good bye\n",
      "sunna tower good morning american 73 ils 34 l ---  sydney tower good morning american 73 ils 34 left\n",
      "mw 265 entbringen wir alle der rundfuss 1003 und zieht climbing qnh und wieder 1006 ---  tango 365 entering val d heren 4300 feet climbing qnh 10176\n"
     ]
    }
   ],
   "source": [
    "for pair in zip(predicted, expected):\n",
    "    print(f\"{normalizer(pair[0])} ---  {normalizer(pair[1])}\")"
   ]
  },
  {
   "cell_type": "code",
   "execution_count": null,
   "id": "7dafe72e-a5bb-47c4-8de8-87ccf3266a3c",
   "metadata": {},
   "outputs": [],
   "source": []
  }
 ],
 "metadata": {
  "kernelspec": {
   "display_name": "Python 3 (ipykernel)",
   "language": "python",
   "name": "python3"
  },
  "language_info": {
   "codemirror_mode": {
    "name": "ipython",
    "version": 3
   },
   "file_extension": ".py",
   "mimetype": "text/x-python",
   "name": "python",
   "nbconvert_exporter": "python",
   "pygments_lexer": "ipython3",
   "version": "3.10.0"
  }
 },
 "nbformat": 4,
 "nbformat_minor": 5
}
