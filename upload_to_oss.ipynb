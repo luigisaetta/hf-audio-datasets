{
 "cells": [
  {
   "cell_type": "markdown",
   "id": "c34ca583-b098-480a-a5e2-be8b1bc52a34",
   "metadata": {
    "tags": []
   },
   "source": [
    "### Copia tutti i file di ATCO2 in un bucket di OSS (atco2)"
   ]
  },
  {
   "cell_type": "code",
   "execution_count": 1,
   "id": "0c42102b-78f6-45be-b93c-18081e797e33",
   "metadata": {},
   "outputs": [],
   "source": [
    "import oci\n",
    "from ocifs import OCIFileSystem\n",
    "import glob\n",
    "from os import path\n",
    "from tqdm import tqdm"
   ]
  },
  {
   "cell_type": "code",
   "execution_count": 2,
   "id": "7329fcb9-0f5f-40e3-ad82-d510ef66092b",
   "metadata": {
    "tags": []
   },
   "outputs": [],
   "source": [
    "EXT = \"wav\"\n",
    "DATA_DIR = \"atco2_orig\"\n",
    "ATCO2_CSV = \"atco2.csv\"\n",
    "\n",
    "BUCKET = \"atco2\"\n",
    "NAMESPACE = \"frqap2zhtzbe\""
   ]
  },
  {
   "cell_type": "code",
   "execution_count": 3,
   "id": "41f24729-aef3-4401-809f-47857f05130e",
   "metadata": {
    "tags": []
   },
   "outputs": [
    {
     "name": "stdout",
     "output_type": "stream",
     "text": [
      "Using API Key for auth...\n"
     ]
    }
   ],
   "source": [
    "try:\n",
    "    rps = oci.auth.signers.get_resource_principals_signer()\n",
    "    \n",
    "    # if here, we can use rp\n",
    "    print(\"Using RP for auth...\")\n",
    "    \n",
    "    fs = OCIFileSystem()\n",
    "except:\n",
    "    print(\"Using API Key for auth...\")\n",
    "    \n",
    "    default_config = oci.config.from_file()\n",
    "\n",
    "    # validate the default config file\n",
    "    oci.config.validate_config(default_config)\n",
    "\n",
    "    fs = OCIFileSystem(config=\"~/.oci/config\", profile=\"DEFAULT\")"
   ]
  },
  {
   "cell_type": "code",
   "execution_count": 4,
   "id": "1e2aed06-5712-49cc-9f0d-816014138029",
   "metadata": {
    "tags": []
   },
   "outputs": [
    {
     "name": "stderr",
     "output_type": "stream",
     "text": [
      "100%|█████████████████████████████████████████████████████████████████████████████████████████| 560/560 [02:32<00:00,  3.68it/s]\n"
     ]
    }
   ],
   "source": [
    "n_copied = 0\n",
    "for f_name in tqdm(glob.glob(path.join(DATA_DIR, f\"*.{EXT}\"))):\n",
    "    # print(f\"Copying {f_name}...\")\n",
    "    \n",
    "    only_name = f_name.split(\"/\")[-1]\n",
    "    \n",
    "    fs.put(f_name, f\"{BUCKET}@{NAMESPACE}/{only_name}\")\n",
    "    n_copied += 1\n",
    "    \n",
    "# copia il csv\n",
    "fs.put(path.join(DATA_DIR, ATCO2_CSV), f\"{BUCKET}@{NAMESPACE}/{ATCO2_CSV}\")"
   ]
  },
  {
   "cell_type": "code",
   "execution_count": null,
   "id": "f98d9dc0-cc9f-4727-b567-1c40f70ba91d",
   "metadata": {
    "tags": []
   },
   "outputs": [],
   "source": [
    "print(f\"Copied {n_copied} files to bucket {BUCKET}.\")"
   ]
  },
  {
   "cell_type": "code",
   "execution_count": null,
   "id": "d80db24c-65b1-4026-a5af-9b1afd110e2b",
   "metadata": {
    "tags": []
   },
   "outputs": [],
   "source": []
  },
  {
   "cell_type": "code",
   "execution_count": null,
   "id": "ef9af57b-1d7f-48ec-a0dd-65a860757177",
   "metadata": {},
   "outputs": [],
   "source": []
  }
 ],
 "metadata": {
  "kernelspec": {
   "display_name": "Python 3 (ipykernel)",
   "language": "python",
   "name": "python3"
  },
  "language_info": {
   "codemirror_mode": {
    "name": "ipython",
    "version": 3
   },
   "file_extension": ".py",
   "mimetype": "text/x-python",
   "name": "python",
   "nbconvert_exporter": "python",
   "pygments_lexer": "ipython3",
   "version": "3.10.0"
  }
 },
 "nbformat": 4,
 "nbformat_minor": 5
}
