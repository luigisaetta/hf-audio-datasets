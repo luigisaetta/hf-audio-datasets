{
 "cells": [
  {
   "cell_type": "markdown",
   "id": "1087cbe7-b427-4151-b928-b0e90cc9df07",
   "metadata": {},
   "source": [
    "### Compute dataset size from original wav files"
   ]
  },
  {
   "cell_type": "code",
   "execution_count": 1,
   "id": "04580b45-0e0e-4ef7-ae3d-065db138ee80",
   "metadata": {
    "tags": []
   },
   "outputs": [],
   "source": [
    "import os\n",
    "import glob\n",
    "from tqdm import tqdm\n",
    "from os import path\n",
    "import pandas as pd\n",
    "from datasets import load_dataset, Audio\n",
    "from datasets import Dataset\n",
    "\n",
    "import soundfile as sf"
   ]
  },
  {
   "cell_type": "code",
   "execution_count": 11,
   "id": "f5924787-6380-4cf1-ac3a-b82551f21699",
   "metadata": {
    "tags": []
   },
   "outputs": [],
   "source": [
    "EXT = \"wav\"\n",
    "DATA_DIR = \"atco2_orig\""
   ]
  },
  {
   "cell_type": "code",
   "execution_count": 12,
   "id": "9f813706-2b59-40e0-b874-b75648bce3e1",
   "metadata": {
    "tags": []
   },
   "outputs": [],
   "source": [
    "list_wav = glob.glob(path.join(DATA_DIR, f\"*.{EXT}\"))"
   ]
  },
  {
   "cell_type": "code",
   "execution_count": 13,
   "id": "fbc7dffd-4b96-43f7-bd01-d3bd0c5bb8a1",
   "metadata": {
    "tags": []
   },
   "outputs": [
    {
     "name": "stderr",
     "output_type": "stream",
     "text": [
      "100%|███████████████████████████████████████████████████████████████████████████████████████| 560/560 [00:00<00:00, 1569.99it/s]"
     ]
    },
    {
     "name": "stdout",
     "output_type": "stream",
     "text": [
      "\n",
      "We have 560 audio files...\n",
      "Total audio duration is: 66.0 min.\n"
     ]
    },
    {
     "name": "stderr",
     "output_type": "stream",
     "text": [
      "\n"
     ]
    }
   ],
   "source": [
    "tot_duration_secs = 0\n",
    "\n",
    "for f_name in tqdm(list_wav):\n",
    "    vet, s_rate = sf.read(f_name)\n",
    "\n",
    "    duration = vet.shape[0] / s_rate\n",
    "\n",
    "    tot_duration_secs += duration\n",
    "\n",
    "tot_duration_mins = tot_duration_secs / 60.0\n",
    "\n",
    "print()\n",
    "print(f\"We have {len(list_wav)} audio files...\")\n",
    "print(f\"Total audio duration is: {round(tot_duration_mins, 1)} min.\")"
   ]
  },
  {
   "cell_type": "code",
   "execution_count": null,
   "id": "53e18091-c3b9-4365-9519-0074a44acda2",
   "metadata": {},
   "outputs": [],
   "source": []
  }
 ],
 "metadata": {
  "kernelspec": {
   "display_name": "Python 3 (ipykernel)",
   "language": "python",
   "name": "python3"
  },
  "language_info": {
   "codemirror_mode": {
    "name": "ipython",
    "version": 3
   },
   "file_extension": ".py",
   "mimetype": "text/x-python",
   "name": "python",
   "nbconvert_exporter": "python",
   "pygments_lexer": "ipython3",
   "version": "3.10.0"
  }
 },
 "nbformat": 4,
 "nbformat_minor": 5
}
