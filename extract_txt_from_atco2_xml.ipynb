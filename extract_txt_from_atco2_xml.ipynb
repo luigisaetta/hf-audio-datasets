{
 "cells": [
  {
   "cell_type": "markdown",
   "id": "377e521c-d26d-4940-8021-0fbecd4b3a62",
   "metadata": {
    "tags": []
   },
   "source": [
    "### Show how to extract sentence (transcriptions) from ATCO2 xml files\n",
    "\n",
    "* no normalization\n",
    "* we remove only chars between < >"
   ]
  },
  {
   "cell_type": "code",
   "execution_count": 1,
   "id": "b08aa38e-1f0f-4e29-97db-3fded59c4ffc",
   "metadata": {
    "tags": []
   },
   "outputs": [],
   "source": [
    "from os import path\n",
    "import glob\n",
    "from tqdm import tqdm\n",
    "\n",
    "from atco2_utils import extract_text_from_xml"
   ]
  },
  {
   "cell_type": "code",
   "execution_count": 2,
   "id": "e02fb6c1-b4e9-469b-bd67-6341de2fc1f9",
   "metadata": {
    "tags": []
   },
   "outputs": [],
   "source": [
    "ATCO2_XML_DIR = \"atco2_orig_xml\""
   ]
  },
  {
   "cell_type": "code",
   "execution_count": 7,
   "id": "dcf0b693-2fc3-4642-b146-3e37e7269abe",
   "metadata": {
    "tags": []
   },
   "outputs": [
    {
     "name": "stdout",
     "output_type": "stream",
     "text": [
      "We have 560 xml files...\n"
     ]
    }
   ],
   "source": [
    "list_xml = glob.glob(path.join(ATCO2_XML_DIR, \"*.xml\"))\n",
    "\n",
    "print(f\"We have {len(list_xml)} xml files...\")"
   ]
  },
  {
   "cell_type": "code",
   "execution_count": 8,
   "id": "f9d2290d-c3e3-41b1-96fc-7b9cd8a66de6",
   "metadata": {
    "tags": []
   },
   "outputs": [
    {
     "name": "stderr",
     "output_type": "stream",
     "text": [
      "100%|██████████████████████████████████████████████████████████████████████████████████████| 560/560 [00:00<00:00, 14289.77it/s]\n"
     ]
    }
   ],
   "source": [
    "for f_name in tqdm(list_xml):\n",
    "    txt = extract_text_from_xml(f_name)"
   ]
  },
  {
   "cell_type": "code",
   "execution_count": 9,
   "id": "640c216f-1431-45d4-9cc6-91135c5886a8",
   "metadata": {
    "tags": []
   },
   "outputs": [
    {
     "name": "stdout",
     "output_type": "stream",
     "text": [
      "Last txt is: Hotel Golf Oscar traffic Rega helicopter just passed hotel echo joining the left hand heli circuit direction one four  helicopter in sight shall we proceed normally Hotel Golf Oscar \n"
     ]
    }
   ],
   "source": [
    "print(f\"Last txt is: {txt}\")"
   ]
  },
  {
   "cell_type": "code",
   "execution_count": null,
   "id": "091c5bfb-215a-4e09-89e9-2a547871b6db",
   "metadata": {},
   "outputs": [],
   "source": []
  }
 ],
 "metadata": {
  "kernelspec": {
   "display_name": "Python 3 (ipykernel)",
   "language": "python",
   "name": "python3"
  },
  "language_info": {
   "codemirror_mode": {
    "name": "ipython",
    "version": 3
   },
   "file_extension": ".py",
   "mimetype": "text/x-python",
   "name": "python",
   "nbconvert_exporter": "python",
   "pygments_lexer": "ipython3",
   "version": "3.10.0"
  }
 },
 "nbformat": 4,
 "nbformat_minor": 5
}
