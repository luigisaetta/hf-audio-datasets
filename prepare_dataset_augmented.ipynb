{
 "cells": [
  {
   "cell_type": "markdown",
   "id": "99072ea1-a5de-44b5-96b9-c204424ab763",
   "metadata": {},
   "source": [
    "### Prepare ATCO2 dataset with augmentatio\n",
    "\n",
    "* checks have been moved to check_files\n",
    "* augmentation: change speed (0.9, 1, 1.1): see https://jonathanbgn.com/2021/08/30/audio-augmentation.html"
   ]
  },
  {
   "cell_type": "code",
   "execution_count": 1,
   "id": "c701b141-6744-4594-8d29-088a332ad8f3",
   "metadata": {
    "tags": []
   },
   "outputs": [],
   "source": [
    "import os\n",
    "import random\n",
    "import glob\n",
    "from tqdm import tqdm\n",
    "from os import path\n",
    "import pandas as pd\n",
    "from datasets import Dataset, load_dataset, Audio\n",
    "\n",
    "# for augmentation\n",
    "import torchaudio"
   ]
  },
  {
   "cell_type": "code",
   "execution_count": 2,
   "id": "5a98435f-5cf3-4e79-bf8e-d6a52483bb3f",
   "metadata": {
    "tags": []
   },
   "outputs": [],
   "source": [
    "SEED = 42\n",
    "\n",
    "TEST_FRAC = 0.1\n",
    "\n",
    "DATA_DIR = \"atco2_orig2\"\n",
    "ATCO2_CSV = \"atco2.csv\"\n",
    "LOCAL_AUG_DIR = \"atco2_augmentation\"\n",
    "\n",
    "# directory for the augmented dataset\n",
    "HF_DIR = \"atco2_hf_augmented\"\n",
    "\n",
    "# the expected sampling rate\n",
    "SAMPLING_RATE = 16000"
   ]
  },
  {
   "cell_type": "code",
   "execution_count": 3,
   "id": "f3c4e322-f077-45c2-8782-f50d296403c3",
   "metadata": {
    "tags": []
   },
   "outputs": [],
   "source": [
    "def remove_path(f_name):\n",
    "    new_name = f_name.split(\"/\")[-1]\n",
    "\n",
    "    return new_name\n",
    "\n",
    "# for audio augmentation\n",
    "# from https://jonathanbgn.com/2021/08/30/audio-augmentation.html\n",
    "\n",
    "class AudioSpeedChanger:\n",
    "    def __init__(self, sample_rate):\n",
    "        self.sample_rate = sample_rate\n",
    "\n",
    "    def __call__(self, audio_data, speed_factor):\n",
    "        # limits what could be done\n",
    "        assert speed_factor in [0.9, 1.0, 1.1]\n",
    "        \n",
    "        if speed_factor == 1.0: # no change\n",
    "            return audio_data\n",
    "\n",
    "        # change speed and resample to original rate:\n",
    "        sox_effects = [\n",
    "            [\"speed\", str(speed_factor)],\n",
    "            [\"rate\", str(self.sample_rate)],\n",
    "        ]\n",
    "        transformed_audio, _ = torchaudio.sox_effects.apply_effects_tensor(\n",
    "            audio_data, self.sample_rate, sox_effects)\n",
    "        \n",
    "        return transformed_audio"
   ]
  },
  {
   "cell_type": "markdown",
   "id": "55a22f06-1349-47b8-afac-f7298d3354b4",
   "metadata": {},
   "source": [
    "#### Read the list of files"
   ]
  },
  {
   "cell_type": "code",
   "execution_count": 4,
   "id": "f91f53e6-b18d-495d-a46c-eff613742238",
   "metadata": {
    "tags": []
   },
   "outputs": [
    {
     "data": {
      "text/html": [
       "<div>\n",
       "<style scoped>\n",
       "    .dataframe tbody tr th:only-of-type {\n",
       "        vertical-align: middle;\n",
       "    }\n",
       "\n",
       "    .dataframe tbody tr th {\n",
       "        vertical-align: top;\n",
       "    }\n",
       "\n",
       "    .dataframe thead th {\n",
       "        text-align: right;\n",
       "    }\n",
       "</style>\n",
       "<table border=\"1\" class=\"dataframe\">\n",
       "  <thead>\n",
       "    <tr style=\"text-align: right;\">\n",
       "      <th></th>\n",
       "      <th>path</th>\n",
       "      <th>sentence</th>\n",
       "    </tr>\n",
       "  </thead>\n",
       "  <tbody>\n",
       "    <tr>\n",
       "      <th>0</th>\n",
       "      <td>LKPR_RUZYNE_Radar_120_520MHz_20201025_091112.wav</td>\n",
       "      <td>Oscar Kilo Papa Mike Bravo descend flight leve...</td>\n",
       "    </tr>\n",
       "    <tr>\n",
       "      <th>1</th>\n",
       "      <td>LKPR_RUZYNE_Radar_120_520MHz_20201025_120512.wav</td>\n",
       "      <td>Oscar Kilo Kilo Echo Alfa Praha Radar identifi...</td>\n",
       "    </tr>\n",
       "    <tr>\n",
       "      <th>2</th>\n",
       "      <td>LKPR_RUZYNE_Radar_120_520MHz_20201025_121325.wav</td>\n",
       "      <td>Ryanair Seven Three Alpha Hotel turn left head...</td>\n",
       "    </tr>\n",
       "    <tr>\n",
       "      <th>3</th>\n",
       "      <td>LKPR_RUZYNE_Radar_120_520MHz_20201025_130407.wav</td>\n",
       "      <td>Oscar Kilo Kilo Uniform November proceed direc...</td>\n",
       "    </tr>\n",
       "    <tr>\n",
       "      <th>4</th>\n",
       "      <td>LKPR_RUZYNE_Radar_120_520MHz_20201025_140929.wav</td>\n",
       "      <td>Eurowings Seven Alfa Bravo turn right heading ...</td>\n",
       "    </tr>\n",
       "  </tbody>\n",
       "</table>\n",
       "</div>"
      ],
      "text/plain": [
       "                                               path  \\\n",
       "0  LKPR_RUZYNE_Radar_120_520MHz_20201025_091112.wav   \n",
       "1  LKPR_RUZYNE_Radar_120_520MHz_20201025_120512.wav   \n",
       "2  LKPR_RUZYNE_Radar_120_520MHz_20201025_121325.wav   \n",
       "3  LKPR_RUZYNE_Radar_120_520MHz_20201025_130407.wav   \n",
       "4  LKPR_RUZYNE_Radar_120_520MHz_20201025_140929.wav   \n",
       "\n",
       "                                            sentence  \n",
       "0  Oscar Kilo Papa Mike Bravo descend flight leve...  \n",
       "1  Oscar Kilo Kilo Echo Alfa Praha Radar identifi...  \n",
       "2  Ryanair Seven Three Alpha Hotel turn left head...  \n",
       "3  Oscar Kilo Kilo Uniform November proceed direc...  \n",
       "4  Eurowings Seven Alfa Bravo turn right heading ...  "
      ]
     },
     "execution_count": 4,
     "metadata": {},
     "output_type": "execute_result"
    }
   ],
   "source": [
    "df_atco2 = pd.read_csv(path.join(DATA_DIR, ATCO2_CSV))\n",
    "\n",
    "# remove old path\n",
    "df_atco2[\"path\"] = df_atco2[\"path\"].apply(remove_path)\n",
    "\n",
    "df_atco2.head()"
   ]
  },
  {
   "cell_type": "markdown",
   "id": "db31dcf0-d369-4408-8dbb-cb1ce95e820c",
   "metadata": {},
   "source": [
    "#### Create the non augmented dataset"
   ]
  },
  {
   "cell_type": "code",
   "execution_count": 5,
   "id": "27902b2b-3264-4d79-b1cc-dff322668eb9",
   "metadata": {
    "tags": []
   },
   "outputs": [],
   "source": [
    "# create lists\n",
    "list_path = list(df_atco2[\"path\"].values)\n",
    "list_text = list(df_atco2[\"sentence\"].values)\n",
    "\n",
    "list_new_path = [\"./\" + DATA_DIR + \"/\" + f_name for f_name in list_path]\n",
    "\n",
    "# replace path\n",
    "audio_dict = {\"path\": list_new_path, \"audio\": list_new_path, \"sentence\": list_text}"
   ]
  },
  {
   "cell_type": "code",
   "execution_count": 6,
   "id": "e51d1e0c-d09e-44b6-946d-a4ca9538bca0",
   "metadata": {
    "tags": []
   },
   "outputs": [],
   "source": [
    "# create the dataset\n",
    "# cast moved after augmentation\n",
    "ds_atco2 = Dataset.from_dict(audio_dict)\n",
    "\n",
    "# casto to audio moved after augmentation"
   ]
  },
  {
   "cell_type": "code",
   "execution_count": 7,
   "id": "b04d4faf-ec19-4649-947c-7a7b1d5e02cd",
   "metadata": {
    "tags": []
   },
   "outputs": [],
   "source": [
    "# shuffle and split in train, test\n",
    "ds_atco2_train_valid = ds_atco2.train_test_split(shuffle=True, test_size=TEST_FRAC, seed=SEED)"
   ]
  },
  {
   "cell_type": "code",
   "execution_count": 8,
   "id": "d234613a-598a-460a-9a09-91906decdd3f",
   "metadata": {
    "tags": []
   },
   "outputs": [
    {
     "name": "stdout",
     "output_type": "stream",
     "text": [
      "We have 504 records in train dataset.\n",
      "We have 56 records in test dataset.\n"
     ]
    }
   ],
   "source": [
    "ds_atco2_train = ds_atco2_train_valid['train']\n",
    "ds_atco2_test = ds_atco2_train_valid['test']\n",
    "\n",
    "print(f\"We have {len(ds_atco2_train_valid['train'])} records in train dataset.\")\n",
    "print(f\"We have {len(ds_atco2_train_valid['test'])} records in test dataset.\")"
   ]
  },
  {
   "cell_type": "code",
   "execution_count": 9,
   "id": "3ce5656a-bd5c-4065-b1f7-e79b0380a3f5",
   "metadata": {
    "tags": []
   },
   "outputs": [
    {
     "name": "stderr",
     "output_type": "stream",
     "text": [
      "504it [00:14, 34.34it/s]\n"
     ]
    }
   ],
   "source": [
    "# we only augment train set\n",
    "# get the list of files for train, for augmentation and create augmented wav\n",
    "speed_transform = AudioSpeedChanger(SAMPLING_RATE)\n",
    "\n",
    "list_new_file_names = []\n",
    "list_new_sentences = []\n",
    "\n",
    "for f_name, the_sentence in tqdm(zip(ds_atco2_train['path'], ds_atco2_train['sentence'])):\n",
    "    # remove the dir\n",
    "    only_path_name = f_name.split(\"/\")[-1]\n",
    "    audio_data, sample_rate = torchaudio.load(f_name)\n",
    "    \n",
    "    # for each file build two other version: 0.9 speed and 1.1 speed\n",
    "    transformed_audio_09 = speed_transform(audio_data, 0.9)\n",
    "    transformed_audio_11 = speed_transform(audio_data, 1.1)\n",
    "    \n",
    "    # save to local dir\n",
    "    aug09_pathname = LOCAL_AUG_DIR + \"/09_\" + only_path_name\n",
    "    torchaudio.save(aug09_pathname, transformed_audio_09, SAMPLING_RATE)\n",
    "    \n",
    "    list_new_file_names.append(aug09_pathname)\n",
    "    list_new_sentences.append(the_sentence)\n",
    "    \n",
    "    aug11_pathname = LOCAL_AUG_DIR + \"/11_\" + only_path_name\n",
    "    torchaudio.save(aug11_pathname, transformed_audio_11, SAMPLING_RATE)\n",
    "    \n",
    "    list_new_file_names.append(aug11_pathname)\n",
    "    list_new_sentences.append(the_sentence)"
   ]
  },
  {
   "cell_type": "code",
   "execution_count": 10,
   "id": "f5e2c07d-d069-429b-af54-3c142a00216a",
   "metadata": {
    "tags": []
   },
   "outputs": [],
   "source": [
    "# adding to ds_train\n",
    "for f_name, sentence in zip(list_new_file_names, list_new_sentences):\n",
    "    to_add = {\"path\": f_name, \"audio\" : f_name, \"sentence\": sentence}\n",
    "    ds_atco2_train_valid['train'] = ds_atco2_train_valid['train'].add_item(to_add)"
   ]
  },
  {
   "cell_type": "code",
   "execution_count": 11,
   "id": "89ce627d-fceb-467b-b342-9f5b0db5a65c",
   "metadata": {
    "tags": []
   },
   "outputs": [],
   "source": [
    "# finally we cast to audio\n",
    "ds_atco2_train_valid = ds_atco2_train_valid.cast_column(\"audio\", Audio(sampling_rate=SAMPLING_RATE))"
   ]
  },
  {
   "cell_type": "code",
   "execution_count": 12,
   "id": "0496a35e-e460-4f06-a275-0668c88b5911",
   "metadata": {
    "tags": []
   },
   "outputs": [
    {
     "name": "stdout",
     "output_type": "stream",
     "text": [
      "We have 1512 records in train dataset.\n",
      "We have 56 records in test dataset.\n"
     ]
    }
   ],
   "source": [
    "# re-get the right pointers\n",
    "ds_atco2_train = ds_atco2_train_valid['train']\n",
    "ds_atco2_test = ds_atco2_train_valid['test']\n",
    "\n",
    "# see if the numbers are ok\n",
    "print(f\"We have {len(ds_atco2_train_valid['train'])} records in train dataset.\")\n",
    "print(f\"We have {len(ds_atco2_train_valid['test'])} records in test dataset.\")"
   ]
  },
  {
   "cell_type": "code",
   "execution_count": 13,
   "id": "b8990b4d-2e81-435c-a76a-0016323d8de7",
   "metadata": {
    "tags": []
   },
   "outputs": [
    {
     "name": "stdout",
     "output_type": "stream",
     "text": [
      "\n",
      "Target text: Vistajet Four Six Seven we expect to descend \n",
      "Input array shape: (44032,)\n",
      "Sampling rate: 16000\n"
     ]
    }
   ],
   "source": [
    "# make a final check for compatibility with HF example\n",
    "\n",
    "rand_int = random.randint(0, len(ds_atco2_train)-1)\n",
    "\n",
    "print()\n",
    "print(\"Target text:\", ds_atco2_train[rand_int][\"sentence\"])\n",
    "print(\"Input array shape:\", ds_atco2_train[rand_int][\"audio\"][\"array\"].shape) \n",
    "print(\"Sampling rate:\", ds_atco2_train[rand_int][\"audio\"][\"sampling_rate\"])"
   ]
  },
  {
   "cell_type": "markdown",
   "id": "c6a877c5-46c8-4bf9-9fcb-c723cd938cf2",
   "metadata": {
    "tags": []
   },
   "source": [
    "#### Save the dataset"
   ]
  },
  {
   "cell_type": "code",
   "execution_count": 14,
   "id": "81b147f3-3b85-478e-a1d3-028a7410be5b",
   "metadata": {
    "tags": []
   },
   "outputs": [
    {
     "data": {
      "application/vnd.jupyter.widget-view+json": {
       "model_id": "",
       "version_major": 2,
       "version_minor": 0
      },
      "text/plain": [
       "Flattening the indices:   0%|          | 0/1512 [00:00<?, ? examples/s]"
      ]
     },
     "metadata": {},
     "output_type": "display_data"
    },
    {
     "data": {
      "application/vnd.jupyter.widget-view+json": {
       "model_id": "f997b029feea46aa9abeb1a9f44f6966",
       "version_major": 2,
       "version_minor": 0
      },
      "text/plain": [
       "Saving the dataset (0/2 shards):   0%|          | 0/1512 [00:00<?, ? examples/s]"
      ]
     },
     "metadata": {},
     "output_type": "display_data"
    },
    {
     "data": {
      "application/vnd.jupyter.widget-view+json": {
       "model_id": "",
       "version_major": 2,
       "version_minor": 0
      },
      "text/plain": [
       "Flattening the indices:   0%|          | 0/56 [00:00<?, ? examples/s]"
      ]
     },
     "metadata": {},
     "output_type": "display_data"
    },
    {
     "data": {
      "application/vnd.jupyter.widget-view+json": {
       "model_id": "",
       "version_major": 2,
       "version_minor": 0
      },
      "text/plain": [
       "Saving the dataset (0/1 shards):   0%|          | 0/56 [00:00<?, ? examples/s]"
      ]
     },
     "metadata": {},
     "output_type": "display_data"
    },
    {
     "name": "stdout",
     "output_type": "stream",
     "text": [
      "Dataset saved in HF format in atco2_hf_augmented\n"
     ]
    }
   ],
   "source": [
    "# save the dataset in HF format\n",
    "\n",
    "ds_atco2_train_valid.save_to_disk(HF_DIR)\n",
    "\n",
    "print(f\"Dataset saved in HF format in {HF_DIR}\")"
   ]
  },
  {
   "cell_type": "code",
   "execution_count": null,
   "id": "bab7b964-1b94-4195-a48d-143d945f77a5",
   "metadata": {},
   "outputs": [],
   "source": []
  }
 ],
 "metadata": {
  "kernelspec": {
   "display_name": "Python 3 (ipykernel)",
   "language": "python",
   "name": "python3"
  },
  "language_info": {
   "codemirror_mode": {
    "name": "ipython",
    "version": 3
   },
   "file_extension": ".py",
   "mimetype": "text/x-python",
   "name": "python",
   "nbconvert_exporter": "python",
   "pygments_lexer": "ipython3",
   "version": "3.10.0"
  }
 },
 "nbformat": 4,
 "nbformat_minor": 5
}
