{
 "cells": [
  {
   "cell_type": "markdown",
   "id": "30853839-df27-4cc9-8e0b-ea22e0ae617d",
   "metadata": {
    "tags": []
   },
   "source": [
    "### Download all atco2 files from Object Storage in a local dir"
   ]
  },
  {
   "cell_type": "code",
   "execution_count": 1,
   "id": "de53c974-eca7-4e70-9de4-dd27cc2941b9",
   "metadata": {
    "tags": []
   },
   "outputs": [],
   "source": [
    "import oci\n",
    "from ocifs import OCIFileSystem\n",
    "import glob\n",
    "from os import path\n",
    "from tqdm import tqdm\n",
    "\n",
    "# moved namespace to config.py\n",
    "from config import (\n",
    "    NAMESPACE,\n",
    ")"
   ]
  },
  {
   "cell_type": "code",
   "execution_count": 2,
   "id": "f126241a-a1f1-43eb-ba65-e978cfc1497c",
   "metadata": {
    "tags": []
   },
   "outputs": [],
   "source": [
    "EXT = \"wav\"\n",
    "# the local directory where all files will be saved\n",
    "DATA_DIR = \"atco2_orig\"\n",
    "# csv file with a line for each wav and the sentence\n",
    "ATCO2_CSV = \"atco2.csv\"\n",
    "\n",
    "# OSS where too get files\n",
    "BUCKET = \"atco2\""
   ]
  },
  {
   "cell_type": "code",
   "execution_count": 3,
   "id": "0427a8cc-de8b-43c2-b774-9c2034c6232a",
   "metadata": {
    "tags": []
   },
   "outputs": [
    {
     "name": "stdout",
     "output_type": "stream",
     "text": [
      "Using API Key for auth...\n"
     ]
    }
   ],
   "source": [
    "#\n",
    "# This code try to get an instance of OCIFileSystem\n",
    "# first try using Resource Principal, otherwise use api keys\n",
    "#\n",
    "try:\n",
    "    rps = oci.auth.signers.get_resource_principals_signer()\n",
    "\n",
    "    # if here, we can use rp\n",
    "    print(\"Using RP for auth...\")\n",
    "\n",
    "    fs = OCIFileSystem()\n",
    "except:\n",
    "    print(\"Using API Key for auth...\")\n",
    "\n",
    "    default_config = oci.config.from_file()\n",
    "\n",
    "    # validate the default config file\n",
    "    oci.config.validate_config(default_config)\n",
    "\n",
    "    fs = OCIFileSystem(config=\"~/.oci/config\", profile=\"DEFAULT\")"
   ]
  },
  {
   "cell_type": "code",
   "execution_count": 4,
   "id": "9376b0a0-85e0-4dd0-9bd3-88fc970f2363",
   "metadata": {
    "tags": []
   },
   "outputs": [
    {
     "name": "stderr",
     "output_type": "stream",
     "text": [
      "100%|█████████████████████████████████████████████████████████████████████████████████████████| 560/560 [02:19<00:00,  4.01it/s]\n"
     ]
    }
   ],
   "source": [
    "list_files = fs.glob(f\"{BUCKET}@{NAMESPACE}/*.{EXT}\")\n",
    "\n",
    "for i, f_name in enumerate(tqdm(list_files)):\n",
    "    # remove the path\n",
    "    only_name = f_name.split(\"/\")[-1]\n",
    "\n",
    "    fs.get(f_name, path.join(DATA_DIR, only_name))\n",
    "\n",
    "# download the csv\n",
    "fs.get(f\"{BUCKET}@{NAMESPACE}/{ATCO2_CSV}\", path.join(DATA_DIR, ATCO2_CSV))"
   ]
  },
  {
   "cell_type": "code",
   "execution_count": 5,
   "id": "25cd013c-3cc4-4531-b355-1cbbf78d31fa",
   "metadata": {
    "tags": []
   },
   "outputs": [
    {
     "name": "stdout",
     "output_type": "stream",
     "text": [
      "Downloaded 560 wav files.\n"
     ]
    }
   ],
   "source": [
    "print(f\"Downloaded {i+1} {EXT} files.\")"
   ]
  },
  {
   "cell_type": "code",
   "execution_count": null,
   "id": "bfb4e72a-ea8c-4b07-9fee-7aeb139a3419",
   "metadata": {},
   "outputs": [],
   "source": []
  }
 ],
 "metadata": {
  "kernelspec": {
   "display_name": "Python 3 (ipykernel)",
   "language": "python",
   "name": "python3"
  },
  "language_info": {
   "codemirror_mode": {
    "name": "ipython",
    "version": 3
   },
   "file_extension": ".py",
   "mimetype": "text/x-python",
   "name": "python",
   "nbconvert_exporter": "python",
   "pygments_lexer": "ipython3",
   "version": "3.10.0"
  }
 },
 "nbformat": 4,
 "nbformat_minor": 5
}
