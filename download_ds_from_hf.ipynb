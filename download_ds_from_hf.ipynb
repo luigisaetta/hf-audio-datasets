{
 "cells": [
  {
   "cell_type": "markdown",
   "id": "ec7235df-61eb-48c8-bcc9-524b3967fba3",
   "metadata": {},
   "source": [
    "### Download a dataset from HF and save it in a local dir\n",
    "\n",
    "* actually after downloading, a hf dataset is cached, but with this script we save it in a chosen dir\n",
    "* we're using the ATCOSIM dataset here"
   ]
  },
  {
   "cell_type": "code",
   "execution_count": 4,
   "id": "c48d2354-ea84-4a4a-b996-1d355679d349",
   "metadata": {
    "tags": []
   },
   "outputs": [],
   "source": [
    "from datasets import load_dataset, load_from_disk, Audio\n",
    "from datasets import Dataset\n",
    "\n",
    "from audio_utils import compute_duration_min"
   ]
  },
  {
   "cell_type": "code",
   "execution_count": 5,
   "id": "2f49435d-c205-41ef-b73f-5e96c53c1043",
   "metadata": {
    "tags": []
   },
   "outputs": [],
   "source": [
    "# original dataset on HF hub\n",
    "DS_NAME = \"Jzuluaga/atcosim_corpus\"\n",
    "\n",
    "# local dir where the dataset is saved\n",
    "HF_DIR = \"atcosim_hf\"\n",
    "\n",
    "SAMPLING_RATE = 16000"
   ]
  },
  {
   "cell_type": "code",
   "execution_count": 6,
   "id": "cabbf767-2a01-4f43-a9bb-25c76b5abdf8",
   "metadata": {
    "tags": []
   },
   "outputs": [
    {
     "name": "stderr",
     "output_type": "stream",
     "text": [
      "Found cached dataset parquet (/Users/lsaetta/.cache/huggingface/datasets/Jzuluaga___parquet/Jzuluaga--atcosim_corpus-010862278c946569/0.0.0/2a3b91fbd88a2c90d1dbbb32b460cf621d31bd5b05b934492fdef7d8d6f236ec)\n"
     ]
    },
    {
     "data": {
      "application/vnd.jupyter.widget-view+json": {
       "model_id": "08b1040690ec4403beca3097b04c5b4c",
       "version_major": 2,
       "version_minor": 0
      },
      "text/plain": [
       "  0%|          | 0/2 [00:00<?, ?it/s]"
      ]
     },
     "metadata": {},
     "output_type": "display_data"
    }
   ],
   "source": [
    "atcosim_ds = load_dataset(DS_NAME)"
   ]
  },
  {
   "cell_type": "code",
   "execution_count": 7,
   "id": "70a3f1c4-e712-4bb5-9d4b-ad50e12702dd",
   "metadata": {
    "tags": []
   },
   "outputs": [
    {
     "data": {
      "text/plain": [
       "DatasetDict({\n",
       "    test: Dataset({\n",
       "        features: ['id', 'audio', 'text', 'segment_start_time', 'segment_end_time', 'duration'],\n",
       "        num_rows: 1901\n",
       "    })\n",
       "    train: Dataset({\n",
       "        features: ['id', 'audio', 'text', 'segment_start_time', 'segment_end_time', 'duration'],\n",
       "        num_rows: 7638\n",
       "    })\n",
       "})"
      ]
     },
     "execution_count": 7,
     "metadata": {},
     "output_type": "execute_result"
    }
   ],
   "source": [
    "atcosim_ds"
   ]
  },
  {
   "cell_type": "code",
   "execution_count": 8,
   "id": "7dba2eaf-7407-46c5-86ec-103f256833b3",
   "metadata": {
    "tags": []
   },
   "outputs": [
    {
     "data": {
      "application/vnd.jupyter.widget-view+json": {
       "model_id": "",
       "version_major": 2,
       "version_minor": 0
      },
      "text/plain": [
       "Saving the dataset (0/1 shards):   0%|          | 0/1901 [00:00<?, ? examples/s]"
      ]
     },
     "metadata": {},
     "output_type": "display_data"
    },
    {
     "data": {
      "application/vnd.jupyter.widget-view+json": {
       "model_id": "c176b6b6b69e4b16aa0b3e472ec43162",
       "version_major": 2,
       "version_minor": 0
      },
      "text/plain": [
       "Saving the dataset (0/4 shards):   0%|          | 0/7638 [00:00<?, ? examples/s]"
      ]
     },
     "metadata": {},
     "output_type": "display_data"
    },
    {
     "name": "stdout",
     "output_type": "stream",
     "text": [
      "Dataset saved in HF format in atcosim_hf\n"
     ]
    }
   ],
   "source": [
    "atcosim_ds.save_to_disk(HF_DIR)\n",
    "\n",
    "print(f\"Dataset saved in HF format in {HF_DIR}\")"
   ]
  },
  {
   "cell_type": "markdown",
   "id": "bd843d0d-8aad-4d13-ba70-2505f1724071",
   "metadata": {},
   "source": [
    "#### Compute Dataset size"
   ]
  },
  {
   "cell_type": "code",
   "execution_count": null,
   "id": "37896916-7a76-4281-91d2-fd2a900c0ceb",
   "metadata": {
    "tags": []
   },
   "outputs": [],
   "source": [
    "print()\n",
    "print(\n",
    "    f\"Tot. duration train ds: {compute_duration_min(atcosim_ds['train'], SAMPLING_RATE)} min.\"\n",
    ")\n",
    "print(\n",
    "    f\"Tot. duration test ds: {compute_duration_min(atcosim_ds['test'], SAMPLING_RATE)} min.\"\n",
    ")"
   ]
  },
  {
   "cell_type": "code",
   "execution_count": null,
   "id": "a257639f-46e9-40c8-bc54-7fb4537dd4d8",
   "metadata": {
    "tags": []
   },
   "outputs": [],
   "source": [
    "atcosim_ds[\"train\"][0][\"audio\"]"
   ]
  },
  {
   "cell_type": "code",
   "execution_count": null,
   "id": "29aa35a7-24a4-41a0-8d00-f216f539b3ce",
   "metadata": {},
   "outputs": [],
   "source": []
  }
 ],
 "metadata": {
  "kernelspec": {
   "display_name": "Python 3 (ipykernel)",
   "language": "python",
   "name": "python3"
  },
  "language_info": {
   "codemirror_mode": {
    "name": "ipython",
    "version": 3
   },
   "file_extension": ".py",
   "mimetype": "text/x-python",
   "name": "python",
   "nbconvert_exporter": "python",
   "pygments_lexer": "ipython3",
   "version": "3.10.0"
  }
 },
 "nbformat": 4,
 "nbformat_minor": 5
}
