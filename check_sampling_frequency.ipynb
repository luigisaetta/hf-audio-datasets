{
 "cells": [
  {
   "cell_type": "markdown",
   "id": "8e405a6f-7ccb-4bd2-9ada-a4c3f01219f0",
   "metadata": {},
   "source": [
    "### Check Sampling frequency\n",
    "\n",
    "* check that all the rows of the dataset have the specified SAMPLING_RATE"
   ]
  },
  {
   "cell_type": "code",
   "execution_count": 1,
   "id": "e56e4f72-4c79-4d64-b8d4-6835ef8a0eca",
   "metadata": {
    "tags": []
   },
   "outputs": [],
   "source": [
    "from tqdm import tqdm\n",
    "from datasets import load_from_disk\n",
    "from datasets import Dataset"
   ]
  },
  {
   "cell_type": "code",
   "execution_count": 2,
   "id": "3f486a9d-8ac2-42c3-b953-15a4bca129fe",
   "metadata": {
    "tags": []
   },
   "outputs": [],
   "source": [
    "HF_DS = \"atco2_atcosim_hf\"\n",
    "\n",
    "SAMPLING_RATE = 16000"
   ]
  },
  {
   "cell_type": "code",
   "execution_count": 3,
   "id": "71e3fd7b-edd2-49e9-96fd-49d3ad852684",
   "metadata": {
    "tags": []
   },
   "outputs": [
    {
     "data": {
      "text/plain": [
       "DatasetDict({\n",
       "    train: Dataset({\n",
       "        features: ['id', 'audio', 'sentence'],\n",
       "        num_rows: 8142\n",
       "    })\n",
       "    test: Dataset({\n",
       "        features: ['id', 'audio', 'sentence'],\n",
       "        num_rows: 1957\n",
       "    })\n",
       "})"
      ]
     },
     "execution_count": 3,
     "metadata": {},
     "output_type": "execute_result"
    }
   ],
   "source": [
    "ds = load_from_disk(HF_DS)\n",
    "\n",
    "ds"
   ]
  },
  {
   "cell_type": "code",
   "execution_count": 4,
   "id": "58c21e30-29b0-401c-8650-28177def86b7",
   "metadata": {
    "tags": []
   },
   "outputs": [
    {
     "name": "stdout",
     "output_type": "stream",
     "text": [
      "Checking train\n"
     ]
    },
    {
     "name": "stderr",
     "output_type": "stream",
     "text": [
      "100%|██████████████████████████████████████████████████████████████████████████████████████████████████████| 8142/8142 [03:28<00:00, 39.13it/s]\n"
     ]
    },
    {
     "name": "stdout",
     "output_type": "stream",
     "text": [
      "Checking test\n"
     ]
    },
    {
     "name": "stderr",
     "output_type": "stream",
     "text": [
      "100%|██████████████████████████████████████████████████████████████████████████████████████████████████████| 1957/1957 [00:51<00:00, 38.03it/s]"
     ]
    },
    {
     "name": "stdout",
     "output_type": "stream",
     "text": [
      "\n",
      "OK: All samples have 16000 Hz as sampling rate...\n"
     ]
    },
    {
     "name": "stderr",
     "output_type": "stream",
     "text": [
      "\n"
     ]
    }
   ],
   "source": [
    "n_ko = 0\n",
    "\n",
    "for split in [\"train\", \"test\"]:\n",
    "    print(f\"Checking {split}\")\n",
    "\n",
    "    ds_split = ds[split]\n",
    "\n",
    "    for row in tqdm(ds_split):\n",
    "        if row[\"audio\"][\"sampling_rate\"] != SAMPLING_RATE:\n",
    "            n_ko += 1\n",
    "\n",
    "            print(f\"{row['id']} has not the expected SAMPLING_RATE...\")\n",
    "\n",
    "print()\n",
    "if n_ko == 0:\n",
    "    print(f\"OK: All samples have {SAMPLING_RATE} Hz as sampling rate...\")\n",
    "else:\n",
    "    print(f\"There are {n_ko} files with unexpected sampling rate...\")"
   ]
  },
  {
   "cell_type": "code",
   "execution_count": null,
   "id": "276a3c77-2307-4388-8160-e62a15446b32",
   "metadata": {},
   "outputs": [],
   "source": []
  }
 ],
 "metadata": {
  "kernelspec": {
   "display_name": "Python 3 (ipykernel)",
   "language": "python",
   "name": "python3"
  },
  "language_info": {
   "codemirror_mode": {
    "name": "ipython",
    "version": 3
   },
   "file_extension": ".py",
   "mimetype": "text/x-python",
   "name": "python",
   "nbconvert_exporter": "python",
   "pygments_lexer": "ipython3",
   "version": "3.10.0"
  }
 },
 "nbformat": 4,
 "nbformat_minor": 5
}
