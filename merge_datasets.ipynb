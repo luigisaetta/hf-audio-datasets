{
 "cells": [
  {
   "cell_type": "markdown",
   "id": "8f8c5ce4-1d93-4e00-9db5-9f593d9f78bd",
   "metadata": {},
   "source": [
    "### Merge two HF Audio Datasets\n",
    "\n",
    "In this NB we load two HF datasets (ATCO2 and ATCOSI), we give them the same structure (same columns, columns names) and we merge them.\n",
    "\n",
    "We choose to merge:\n",
    "* train with train\n",
    "* test with test\n",
    "\n",
    "finally, we save the concatenated dataset locally"
   ]
  },
  {
   "cell_type": "code",
   "execution_count": 1,
   "id": "408d6ea7-4187-46e3-bd57-b91fdc617d04",
   "metadata": {
    "tags": []
   },
   "outputs": [],
   "source": [
    "from datasets import load_dataset, load_from_disk, concatenate_datasets\n",
    "from datasets import Dataset, DatasetDict"
   ]
  },
  {
   "cell_type": "code",
   "execution_count": 2,
   "id": "c92fa91a-bee2-4e44-8ec9-3df94005074a",
   "metadata": {
    "tags": []
   },
   "outputs": [],
   "source": [
    "HF_DS1 = \"atco2_hf\"\n",
    "HF_DS2 = \"atcosim_hf\"\n",
    "\n",
    "HF_MERGED = \"atco2_atcosim_hf\"\n",
    "\n",
    "SEED = 42\n",
    "\n",
    "# list of cols to remove\n",
    "# since we have only in ds2\n",
    "to_remove = [\"segment_start_time\", \"segment_end_time\", \"duration\"]"
   ]
  },
  {
   "cell_type": "code",
   "execution_count": 3,
   "id": "5e410877-003f-473d-82cb-e4d1e6efef85",
   "metadata": {
    "tags": []
   },
   "outputs": [
    {
     "data": {
      "text/plain": [
       "DatasetDict({\n",
       "    train: Dataset({\n",
       "        features: ['path', 'audio', 'sentence'],\n",
       "        num_rows: 504\n",
       "    })\n",
       "    test: Dataset({\n",
       "        features: ['path', 'audio', 'sentence'],\n",
       "        num_rows: 56\n",
       "    })\n",
       "})"
      ]
     },
     "execution_count": 3,
     "metadata": {},
     "output_type": "execute_result"
    }
   ],
   "source": [
    "# load the two ds\n",
    "ds1 = load_from_disk(HF_DS1)\n",
    "\n",
    "ds1"
   ]
  },
  {
   "cell_type": "code",
   "execution_count": 4,
   "id": "ab27f868-533e-40ba-8e8d-59876a6aedd8",
   "metadata": {
    "tags": []
   },
   "outputs": [
    {
     "data": {
      "text/plain": [
       "{'path': './atco2_orig2/LSGS_SION_Ground_Control_121_7MHz_20210505_105917.wav',\n",
       " 'audio': {'path': 'LSGS_SION_Ground_Control_121_7MHz_20210505_105917.wav',\n",
       "  'array': array([ 0.00000000e+00,  0.00000000e+00,  0.00000000e+00, ...,\n",
       "         -9.15527344e-05, -9.15527344e-05, -9.15527344e-05]),\n",
       "  'sampling_rate': 16000},\n",
       " 'sentence': 'Tango Three Three Five frequency change approved good bye good bye '}"
      ]
     },
     "execution_count": 4,
     "metadata": {},
     "output_type": "execute_result"
    }
   ],
   "source": [
    "ds1[\"test\"][0]"
   ]
  },
  {
   "cell_type": "code",
   "execution_count": 5,
   "id": "6b58d074-6c33-4bec-831f-86fc7e3ee120",
   "metadata": {
    "tags": []
   },
   "outputs": [
    {
     "data": {
      "text/plain": [
       "DatasetDict({\n",
       "    test: Dataset({\n",
       "        features: ['id', 'audio', 'text', 'segment_start_time', 'segment_end_time', 'duration'],\n",
       "        num_rows: 1901\n",
       "    })\n",
       "    train: Dataset({\n",
       "        features: ['id', 'audio', 'text', 'segment_start_time', 'segment_end_time', 'duration'],\n",
       "        num_rows: 7638\n",
       "    })\n",
       "})"
      ]
     },
     "execution_count": 5,
     "metadata": {},
     "output_type": "execute_result"
    }
   ],
   "source": [
    "ds2 = load_from_disk(HF_DS2)\n",
    "\n",
    "ds2"
   ]
  },
  {
   "cell_type": "code",
   "execution_count": 6,
   "id": "2c3bcfd9-acea-4d6d-99c9-7d3514a1c7c2",
   "metadata": {
    "tags": []
   },
   "outputs": [
    {
     "data": {
      "text/plain": [
       "{'id': 'atcosim_zf1_05_146_000000_000350',\n",
       " 'audio': {'path': None,\n",
       "  'array': array([-0.01065305, -0.0091649 ,  0.00305132, ...,  0.00235061,\n",
       "          0.00200877, -0.00022785]),\n",
       "  'sampling_rate': 16000},\n",
       " 'text': 'lufthansa four three nine three descend to flight level two seven zero',\n",
       " 'segment_start_time': 0.0,\n",
       " 'segment_end_time': 3.5,\n",
       " 'duration': 3.5}"
      ]
     },
     "execution_count": 6,
     "metadata": {},
     "output_type": "execute_result"
    }
   ],
   "source": [
    "ds2[\"test\"][0]"
   ]
  },
  {
   "cell_type": "markdown",
   "id": "a79c3a9c-e05e-4f04-8658-47b59945706e",
   "metadata": {},
   "source": [
    "#### Change columns name, remove"
   ]
  },
  {
   "cell_type": "code",
   "execution_count": 7,
   "id": "232c57b9-3c05-4591-9c2f-99149ce31901",
   "metadata": {
    "tags": []
   },
   "outputs": [],
   "source": [
    "ds1 = ds1.rename_column(\"path\", \"id\")\n",
    "ds2 = ds2.rename_column(\"text\", \"sentence\")\n",
    "\n",
    "ds2 = ds2.remove_columns(to_remove)"
   ]
  },
  {
   "cell_type": "code",
   "execution_count": 8,
   "id": "16a2499d-dfc6-4046-9cba-58e3a875e62e",
   "metadata": {
    "tags": []
   },
   "outputs": [
    {
     "data": {
      "text/plain": [
       "DatasetDict({\n",
       "    train: Dataset({\n",
       "        features: ['id', 'audio', 'sentence'],\n",
       "        num_rows: 504\n",
       "    })\n",
       "    test: Dataset({\n",
       "        features: ['id', 'audio', 'sentence'],\n",
       "        num_rows: 56\n",
       "    })\n",
       "})"
      ]
     },
     "execution_count": 8,
     "metadata": {},
     "output_type": "execute_result"
    }
   ],
   "source": [
    "ds1"
   ]
  },
  {
   "cell_type": "code",
   "execution_count": 9,
   "id": "aa16f238-bead-432b-a208-600a89021a96",
   "metadata": {
    "tags": []
   },
   "outputs": [
    {
     "data": {
      "text/plain": [
       "DatasetDict({\n",
       "    test: Dataset({\n",
       "        features: ['id', 'audio', 'sentence'],\n",
       "        num_rows: 1901\n",
       "    })\n",
       "    train: Dataset({\n",
       "        features: ['id', 'audio', 'sentence'],\n",
       "        num_rows: 7638\n",
       "    })\n",
       "})"
      ]
     },
     "execution_count": 9,
     "metadata": {},
     "output_type": "execute_result"
    }
   ],
   "source": [
    "ds2"
   ]
  },
  {
   "cell_type": "code",
   "execution_count": 10,
   "id": "2a3f0d13-00cc-4868-87a1-6c0051df3e33",
   "metadata": {
    "tags": []
   },
   "outputs": [
    {
     "name": "stderr",
     "output_type": "stream",
     "text": [
      "Loading cached shuffled indices for dataset at /Users/lsaetta/Progetti/hf-audio-datasets/atco2_hf/train/cache-3461719dad91c431.arrow\n",
      "Loading cached shuffled indices for dataset at /Users/lsaetta/Progetti/hf-audio-datasets/atco2_hf/test/cache-9b102643e96462bf.arrow\n"
     ]
    }
   ],
   "source": [
    "ds_train = concatenate_datasets([ds1[\"train\"], ds2[\"train\"]])\n",
    "ds_test = concatenate_datasets([ds1[\"test\"], ds2[\"test\"]])\n",
    "\n",
    "# shuffle\n",
    "ds_train = ds_train.shuffle(seed=SEED)\n",
    "ds_test = ds_test.shuffle(seed=SEED)"
   ]
  },
  {
   "cell_type": "code",
   "execution_count": 11,
   "id": "235c62a6-efd5-44ed-bb02-64511af03da1",
   "metadata": {
    "tags": []
   },
   "outputs": [],
   "source": [
    "# create the final dataset dict\n",
    "ds = DatasetDict()\n",
    "\n",
    "ds[\"train\"] = ds_train\n",
    "ds[\"test\"] = ds_test"
   ]
  },
  {
   "cell_type": "code",
   "execution_count": 12,
   "id": "4cd4d589-fe2c-43b5-b198-dec85af1ac66",
   "metadata": {
    "tags": []
   },
   "outputs": [
    {
     "data": {
      "text/plain": [
       "DatasetDict({\n",
       "    train: Dataset({\n",
       "        features: ['id', 'audio', 'sentence'],\n",
       "        num_rows: 8142\n",
       "    })\n",
       "    test: Dataset({\n",
       "        features: ['id', 'audio', 'sentence'],\n",
       "        num_rows: 1957\n",
       "    })\n",
       "})"
      ]
     },
     "execution_count": 12,
     "metadata": {},
     "output_type": "execute_result"
    }
   ],
   "source": [
    "ds"
   ]
  },
  {
   "cell_type": "code",
   "execution_count": 13,
   "id": "327575ff-33a7-4103-9a4c-60644141b457",
   "metadata": {
    "tags": []
   },
   "outputs": [
    {
     "data": {
      "text/plain": [
       "{'id': ['./atco2_orig2/LSZB_BERN_Tower_121_0MHz_20210421_094113.wav',\n",
       "  'atcosim_zf1_04_064_000000_000594'],\n",
       " 'audio': [{'path': 'LSZB_BERN_Tower_121_0MHz_20210421_094113.wav',\n",
       "   'array': array([0.        , 0.        , 0.        , ..., 0.07315063, 0.07467651,\n",
       "          0.07498169]),\n",
       "   'sampling_rate': 16000},\n",
       "  {'path': None,\n",
       "   'array': array([-0.00191666,  0.00078971, -0.00110885, ...,  0.00132176,\n",
       "           0.00324113,  0.00264592]),\n",
       "   'sampling_rate': 16000}],\n",
       " 'sentence': [\"Hotel Golf Papa unknown VFR traffic a helicopter at your eleven o'clock position two miles same altitude opposite direction \",\n",
       "  'air france one five five four due traffic turn disregard descend to flight level three three zero']}"
      ]
     },
     "execution_count": 13,
     "metadata": {},
     "output_type": "execute_result"
    }
   ],
   "source": [
    "ds[\"train\"][0:2]"
   ]
  },
  {
   "cell_type": "code",
   "execution_count": 14,
   "id": "0a2f8835-0793-4f87-b00d-a688417c3c32",
   "metadata": {
    "tags": []
   },
   "outputs": [
    {
     "name": "stderr",
     "output_type": "stream",
     "text": [
      "Loading cached processed dataset at /Users/lsaetta/Progetti/hf-audio-datasets/atco2_hf/train/cache-e0918e897043a2d5.arrow\n"
     ]
    },
    {
     "data": {
      "application/vnd.jupyter.widget-view+json": {
       "model_id": "6efa55d922004202a4c0f97507845142",
       "version_major": 2,
       "version_minor": 0
      },
      "text/plain": [
       "Saving the dataset (0/5 shards):   0%|          | 0/8142 [00:00<?, ? examples/s]"
      ]
     },
     "metadata": {},
     "output_type": "display_data"
    },
    {
     "name": "stderr",
     "output_type": "stream",
     "text": [
      "Loading cached processed dataset at /Users/lsaetta/Progetti/hf-audio-datasets/atco2_hf/test/cache-7575155bb3dd26af.arrow\n"
     ]
    },
    {
     "data": {
      "application/vnd.jupyter.widget-view+json": {
       "model_id": "",
       "version_major": 2,
       "version_minor": 0
      },
      "text/plain": [
       "Saving the dataset (0/1 shards):   0%|          | 0/1957 [00:00<?, ? examples/s]"
      ]
     },
     "metadata": {},
     "output_type": "display_data"
    },
    {
     "name": "stdout",
     "output_type": "stream",
     "text": [
      "Dataset saved in HF format in atco2_atcosim_hf\n"
     ]
    }
   ],
   "source": [
    "# save the dataset in HF format\n",
    "\n",
    "ds.save_to_disk(HF_MERGED)\n",
    "\n",
    "print(f\"Dataset saved in HF format in {HF_MERGED}\")"
   ]
  },
  {
   "cell_type": "code",
   "execution_count": null,
   "id": "e59032e8-eb85-49c3-92de-31060052238b",
   "metadata": {},
   "outputs": [],
   "source": []
  }
 ],
 "metadata": {
  "kernelspec": {
   "display_name": "Python 3 (ipykernel)",
   "language": "python",
   "name": "python3"
  },
  "language_info": {
   "codemirror_mode": {
    "name": "ipython",
    "version": 3
   },
   "file_extension": ".py",
   "mimetype": "text/x-python",
   "name": "python",
   "nbconvert_exporter": "python",
   "pygments_lexer": "ipython3",
   "version": "3.10.0"
  }
 },
 "nbformat": 4,
 "nbformat_minor": 5
}
