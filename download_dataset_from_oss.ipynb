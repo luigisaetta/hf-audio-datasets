{
 "cells": [
  {
   "cell_type": "markdown",
   "id": "764ab973-2422-408a-803a-d3bc3dcf58b3",
   "metadata": {
    "tags": []
   },
   "source": [
    "### Download HF dataset from Object Storage\n",
    "\n",
    "* we're using OCIfs"
   ]
  },
  {
   "cell_type": "code",
   "execution_count": 1,
   "id": "06ca2052-e459-4689-a760-26961be247a6",
   "metadata": {
    "tags": []
   },
   "outputs": [],
   "source": [
    "import os\n",
    "import oci\n",
    "from ocifs import OCIFileSystem\n",
    "import glob\n",
    "from tqdm import tqdm\n",
    "\n",
    "# moved namespace to config.py\n",
    "from config import (\n",
    "    NAMESPACE,\n",
    ")"
   ]
  },
  {
   "cell_type": "code",
   "execution_count": 2,
   "id": "0c71b05a-681d-4640-8b1c-9002b7f07ba4",
   "metadata": {
    "tags": []
   },
   "outputs": [],
   "source": [
    "# the name of the HF dataset (the dir where it is saved)\n",
    "HF_DIR = \"atco2_hf_download\"\n",
    "\n",
    "# the bucket where the entire ds will be saved\n",
    "BUCKET = \"atco2_hf\""
   ]
  },
  {
   "cell_type": "code",
   "execution_count": 3,
   "id": "04822329-66ac-434e-8cc4-7a6d70cd1bfc",
   "metadata": {
    "tags": []
   },
   "outputs": [
    {
     "name": "stdout",
     "output_type": "stream",
     "text": [
      "Using API Key for auth...\n"
     ]
    }
   ],
   "source": [
    "#\n",
    "# This code try to get an instance of OCIFileSystem\n",
    "# first try using Resource Principal, otherwise use api keys\n",
    "#\n",
    "try:\n",
    "    rps = oci.auth.signers.get_resource_principals_signer()\n",
    "\n",
    "    # if here, we can use rp\n",
    "    print(\"Using RP for auth...\")\n",
    "\n",
    "    fs = OCIFileSystem()\n",
    "except:\n",
    "    print(\"Using API Key for auth...\")\n",
    "\n",
    "    default_config = oci.config.from_file()\n",
    "\n",
    "    # validate the default config file\n",
    "    oci.config.validate_config(default_config)\n",
    "\n",
    "    fs = OCIFileSystem(config=\"~/.oci/config\", profile=\"DEFAULT\")"
   ]
  },
  {
   "cell_type": "code",
   "execution_count": 4,
   "id": "b67ef997-c659-4500-afd8-e600d440c884",
   "metadata": {
    "tags": []
   },
   "outputs": [
    {
     "name": "stdout",
     "output_type": "stream",
     "text": [
      "Copy atco2_hf_download/dataset_dict.json...\n",
      "Copy atco2_hf_download/train/data-00000-of-00001.arrow...\n",
      "Copy atco2_hf_download/train/dataset_info.json...\n",
      "Copy atco2_hf_download/train/state.json...\n",
      "Copy atco2_hf_download/test/data-00000-of-00001.arrow...\n",
      "Copy atco2_hf_download/test/dataset_info.json...\n",
      "Copy atco2_hf_download/test/state.json...\n"
     ]
    }
   ],
   "source": [
    "# traverse all the files and copy in local\n",
    "for path, subdirs, files in fs.walk(f\"oci://{BUCKET}@{NAMESPACE}/\"):\n",
    "    for name in files:\n",
    "        # get the directory from path\n",
    "        if \"/\" not in path:\n",
    "            remote_dir = \"\"\n",
    "        else:\n",
    "            remote_dir = path.split(\"/\")[-1]\n",
    "\n",
    "        dest_dir = os.path.join(HF_DIR, remote_dir)\n",
    "\n",
    "        # if destdir doesn't exist create\n",
    "        if not os.path.exists(dest_dir):\n",
    "            os.makedirs(dest_dir)\n",
    "\n",
    "        print(f\"Copy {os.path.join(dest_dir, name)}...\")\n",
    "        fs.get(os.path.join(path, name), os.path.join(dest_dir, name))"
   ]
  },
  {
   "cell_type": "code",
   "execution_count": null,
   "id": "9ef0e2f4-7aae-4f1b-b863-d9fc446826ca",
   "metadata": {
    "tags": []
   },
   "outputs": [],
   "source": []
  },
  {
   "cell_type": "code",
   "execution_count": null,
   "id": "03810c11-d480-4334-a07a-b2b99dfea097",
   "metadata": {},
   "outputs": [],
   "source": []
  }
 ],
 "metadata": {
  "kernelspec": {
   "display_name": "Python 3 (ipykernel)",
   "language": "python",
   "name": "python3"
  },
  "language_info": {
   "codemirror_mode": {
    "name": "ipython",
    "version": 3
   },
   "file_extension": ".py",
   "mimetype": "text/x-python",
   "name": "python",
   "nbconvert_exporter": "python",
   "pygments_lexer": "ipython3",
   "version": "3.10.0"
  }
 },
 "nbformat": 4,
 "nbformat_minor": 5
}
